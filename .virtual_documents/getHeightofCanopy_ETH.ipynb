import ee
import pandas as pd
import os
import xarray as xr


ee.Authenticate()


ee.Initialize()


stations = pd.read_excel("Stationdetails.xlsx")


stations


stations.rename(columns={'Position (lon,lat)': 'Position'}, inplace=True)


stations['Site type (IGBP)']


stations_elevation = pd.read_csv('station_with_elevation_heightcanopy.csv')


stations_elevation['Site type (IGBP)'] = stations['Site type (IGBP)']


#Save this csv
stations_elevation.to_csv('station_with_elevation_heightcanopy.csv', index=False)


# Initialize an empty dictionary to store station_name, latitude, and longitude
station_coordinates = {}

# Iterate over each row in the DataFrame
for index, row in stations.iterrows():
    # Extract the station_name and position
    station_name = row['station_name']
    position = row['Position']
    
    # Split the position string to get latitude and longitude
    longitude, latitude = map(float, position.split(','))
    
    # Store the station_name, latitude, and longitude in the dictionary
    station_coordinates[station_name] = {'latitude': latitude, 'longitude': longitude}



station_coordinates


# Extract latitude and longitude for the station 'DK-Sor'
latitude = float(station_coordinates['DK-Sor']['latitude'])
longitude = float(station_coordinates['DK-Sor']['longitude'])


target_location = ee.Geometry.Point(longitude,latitude)


# Create an image collection for MODIS LAI data
dem_collection = ee.ImageCollection("COPERNICUS/DEM/GLO30") .filterBounds(target_location)
dem_collection.size()
dem = dem_collection.first()


canopy_height = ee.Image('users/nlang/ETH_GlobalCanopyHeight_2020_10m_v1')
canopy_height.bandNames().getInfo()


sd_canopy = ee.Image('users/nlang/ETH_GlobalCanopyHeightSD_2020_10m_v1')
sd_canopy.bandNames().getInfo()


dem.bandNames().getInfo()


# Get the elevation value at the specified point
elevation = dem.sample(target_location, 30).get('DEM').getInfo()
print(elevation)
# Sample the canopy height image at the target location
#height_canopy = canopy_height.sample(target_location, 10).first().get('b1').getInfo()  # Change 'b1' to appropriate band name if needed
#sd_height_canopy = sd_canopy.sample(target_location, 10).first().get('b1').getInfo()


## Zipping all files in the folder
import os
import zipfile

# Directory containing zip files
folder_path = '/home/khanalp/task1/data/ESACCILCCS/'

# Iterate over files in the directory
for filename in os.listdir(folder_path):
    if filename.endswith('.zip'):
        file_path = os.path.join(folder_path, filename)
        with zipfile.ZipFile(file_path, 'r') as zip_ref:
            zip_ref.extractall(folder_path)


folder_path = '/home/khanalp/task1/data/ESACCILCCS/'


files = [os.path.join(folder_path, file) for file in os.listdir(folder_path) if file.endswith('.nc')]


da = xr.open_mfdataset(files)


da["lccs_class"].attrs["flag_values"].flatten()[18]


da["lccs_class"].attrs["flag_meanings"]


# Find the nearest grid cell to the target location
nearest_cell = da.sel(lat=target_location[1], lon=target_location[0], method='nearest')

# Select the lccs_class variable from the nearest cell
lccs_class_data = nearest_cell['lccs_class']


lccs_class_data.values


import xarray as xr


cams = xr.open_dataset("/home/khanalp/task1/data/cams/cams.nc")


import matplotlib.pyplot as plt
plt.plot(cams.co2.values.flatten())



