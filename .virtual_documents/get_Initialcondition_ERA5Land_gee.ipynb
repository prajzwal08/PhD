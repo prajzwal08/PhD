import ee
import pandas as pd
import os
import xarray as xr


ee.Authenticate()


ee.Initialize()


directory = "/home/khanalp/task1/data/ICOS/Input_data"
nc_files = [file for file in os.listdir(directory) if file.endswith(".nc")]


# This contains all the stations of the ICOS with information like plant canopy height, measurement height, etc. 
station_all = pd.read_excel("station_with_elevation_heightcanopy.xlsx")
# Set the "station_name" column as the index
station_all = station_all.set_index('station_name')


# selected_stations contains the stations with no NA values"
selected_station = pd.read_csv("sites_with_noNAs.csv", index_col= 0)

# These are station for which we will drive the model. 
station = station_all[station_all.index.isin(selected_station.index)]


# Initialize an empty dictionary to store station_name, latitude, and longitude and other information..
station_dict = {}
# Iterate over each row in the DataFrame
for index, row in station.iterrows():
    # Extract the station_name and position
    station_name = index
    latitude = row['latitude']
    longitude = row['longitude']
    elevation = row['elevation']
    IGBP_longname = row['IGBP long name']
    IGBP_shortname = row['IGBP short name']
    #start_year = row['Start_Year_Threshold']
    #end_year = row['End_Year_Threshold']
    
    # Extract height_canopy from 'height_canopy_field_information' column or 'height_canopy_ETH' column
    height_canopy = row['height_canopy_field_information']
    if pd.isna(height_canopy):  # Check if height_canopy_field_information is NaN
        height_canopy = row['height_canopy_ETH']

    measurement_height = row['Measurement height']
    
    # Store the station_name, latitude, and longitude in the dictionary
    station_dict[station_name] = {
        'latitude': latitude, 
        'longitude': longitude, 
        'elevation' : elevation,
        'IGBP_longname': IGBP_longname,
        'IGBP_shortname': IGBP_shortname,
        'height_canopy': height_canopy,
        'measurement_height': measurement_height,
    }


# Initialize a dictionary to store station information
station_info = {}

# Iterate over the NetCDF files
for nc_file in nc_files:
    # Extract station name from the filename
    station_name = nc_file.split("_")[0]
    
    # Extract start and end years from the filename
    start_year = int(nc_file.split("_")[1][:4])
    end_year = int(nc_file.split("_")[1][5:9])
    
    # Update station_info dictionary
    station_info[station_name] = {'start_year': start_year, 'end_year': end_year}


# Iterate over station_dict and update each station's dictionary
for station_name, info in station_dict.items():
    # Check if the station_name exists in station_info
    if station_name in station_info:
        # Update the station's dictionary with additional keys from station_info
        additional_info = station_info[station_name]
        info.update(additional_info)


band_required = ['skin_temperature',
                 'soil_temperature_level_1',
                 'soil_temperature_level_2',
                 'soil_temperature_level_3',
                 'soil_temperature_level_4',
                 'volumetric_soil_water_layer_1',
                 'volumetric_soil_water_layer_2',
                 'volumetric_soil_water_layer_3',
                 'volumetric_soil_water_layer_4']


# Loop through each station in station_dict
for station_name, station_info in station_dict.items():
    # Extract latitude, longitude, start_year, and end_year for the current station
    station_id = station_name
    latitude = station_info['latitude']
    longitude = station_info['longitude']
    start_year = station_info['start_year']
    end_year = station_info['end_year']
    break


# Create a point geometry using the latitude and longitude
point = ee.Geometry.Point(longitude, latitude)


# Filter the image collection to include only the images for the specified start year
filtered_collection = ee.ImageCollection("ECMWF/ERA5_LAND/HOURLY").filterDate(str(start_year) + "-01-01", str(start_year) + "-12-31")

# Get the first image from the filtered collection
first_image = ee.Image(filtered_collection.first())


# Extract pixel values at the point for the first image of the year
values = first_image.select(band_required).reduceRegion(reducer=ee.Reducer.first(), geometry=point, scale=1000)


# Create a Python dictionary containing the values for the specified bands
# Extract values for the specified bands at the given location
values_dict = first_image.reduceRegion(reducer=ee.Reducer.first(), geometry=point, scale=10000).getInfo()

# Create a pandas DataFrame from the dictionary of band values
df = pd.DataFrame(values_dict, index=[0])

# Select only the required bands
df = df[band_required]

df.index = [station_name]


# Create an empty list to store DataFrames for each station
dfs = []

# Loop through each station in station_dict
for station_name, station_info in station_dict.items():
    # Extract latitude, longitude, start_year, and end_year for the current station
    latitude = station_info['latitude']
    longitude = station_info['longitude']
    start_year = station_info['start_year']
    end_year = station_info['end_year']
    
    # Create a point geometry using the latitude and longitude
    point = ee.Geometry.Point(longitude, latitude)

    
    # Filter the image collection to include only the images for the specified start year
    filtered_collection = ee.ImageCollection("ECMWF/ERA5_LAND/HOURLY").filterDate(str(start_year) + "-01-01", str(start_year) + "-12-31")

    # Get the first image from the filtered collection
    first_image = ee.Image(filtered_collection.first())
    
    # Get the date of the first image
    image_date = ee.Date(first_image.get('system:time_start')).format('YYYY-MM-dd').getInfo()
    
    # Extract pixel values at the point for the first image of the year
    values_dict = first_image.reduceRegion(reducer=ee.Reducer.first(), geometry=point, scale=10000).getInfo()
    
    # Create a pandas DataFrame from the dictionary of band values
    station_df = pd.DataFrame(values_dict, index=[station_name])
    
    # Select only the required bands
    station_df = station_df[band_required]

    # Add latitude, longitude, and image date as columns
    station_df['latitude'] = latitude
    station_df['longitude'] = longitude
    station_df['image_date'] = image_date
    
    # Append the station DataFrame to the list
    dfs.append(station_df)

# Concatenate all DataFrames in the list into a single DataFrame
df = pd.concat(dfs)


df


df.to_csv("ERA5LandInitialcondition.csv", index = True)



