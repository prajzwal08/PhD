import os
import xarray as xr
import pandas as pd


input_data = xr.open_dataset("/home/khanalp/task1/data/ICOS/Input_data/BE-Lon_2012-2020_FLUXNET2015_Met.nc")


def list_folders_with_prefix(location, prefix):
    """
    Retrieves a list of folder names within the specified location directory that start with the provided prefix.
    
    Parameters:
        location (str): The directory path where the function will search for folders.
        prefix (str): The prefix that the desired folders should start with.
    
    Returns:
        list: A list of folder names starting with the specified prefix within the given location.
    """
    folders_with_prefix = [folder for folder in os.listdir(location) if os.path.isdir(os.path.join(location, folder)) and folder.startswith(prefix)]
    return folders_with_prefix


def list_csv_files_in_folder(folder_path, keyword):
    """
    Retrieves a list of file paths for CSV files within the specified folder_path directory that contain the provided keyword in their filenames.
    
    Parameters:
        folder_path (str): The directory path where the function will search for CSV files.
        keyword (str): The keyword that the filenames of desired CSV files should contain.
    
    Returns:
        list: A list of file paths for CSV files containing the specified keyword within the given folder_path.
    """
    csv_files = [os.path.join(folder_path, file) for file in os.listdir(folder_path) if file.endswith('.csv') and keyword in file]
    return csv_files


ICOS_location = "/home/khanalp/task1/data/"
prefix = "FLX"


folders = list_folders_with_prefix(ICOS_location, prefix)

csv_files_with_keyword = [] 
for folder in folders:
    folder_path = os.path.join(ICOS_location, folder)
    csv_files_with_keyword.extend(list_csv_files_in_folder(folder_path, "FULLSET_HH"))


# Assuming csv_files_with_keyword is a list of file names
keyword = "BE-Lon"
filtered_files = [file for file in csv_files_with_keyword if keyword in file]


insitu = pd.read_csv(filtered_files[0])


insitu.columns.tolist()


#selecting required variables from ICOS data for input.
variables = [
    'TIMESTAMP_START',
    'NETRAD',
    'SW_OUT',
    'LE_F_MDS',
    'H_F_MDS',
    'G_F_MDS',
    'LE_CORR',
    'H_CORR',
    'LE_CORR_JOINTUNC',
    'H_CORR_JOINTUNC',
    'USTAR',
    'NEE_VUT_REF',
    'NEE_VUT_REF_JOINTUNC',
    'GPP_NT_VUT_REF',
    'GPP_NT_VUT_SE',
    'GPP_DT_VUT_REF',
    'GPP_DT_VUT_SE',
    'RECO_NT_VUT_REF',
    'RECO_NT_VUT_SE'
]


#Renaming them 
rename = {'NETRAD':'Rnet',
          'SW_OUT':'SWup',
          'LE_F_MDS':'Qle',
          'H_F_MDS':'Qh',
          'G_F_MDS':'Qg',
          'LE_CORR':'Qle_cor',
          'H_CORR':'Qh_cor',
          'LE_CORR_JOINTUNC':'Qle_cor_uc',
          'H_CORR_JOINTUNC':'Qh_cor_uc',
          'USTAR':'Ustar',
          'NEE_VUT_REF':'NEE',
          'NEE_VUT_REF_JOINTUNC' : 'NEE_uc',
          'GPP_NT_VUT_REF':'GPP',
          'GPP_NT_VUT_SE':'GPP_se',
          'GPP_DT_VUT_REF':'GPP_DT',
          'GPP_DT_VUT_SE':'GPP_DT_se',
          'RECO_NT_VUT_REF':'Resp',
          'RECO_NT_VUT_SE':'Resp_se'
         }


# Make xraay dataaset
xds = xr.Dataset.from_dataframe(insitu)


# Select variables and rename them.
xds_renamed = xds[variables].rename(rename)


#Making date and time as index; renaming index to time
xds_indexed = xds_renamed.assign_coords(index=pd.to_datetime(xds_renamed['TIMESTAMP_START'], format='%Y%m%d%H%M')).rename({'index':'time'})
# Adding x,y to the dimensions; also dropping variable 'TIMESTAMP_START' because its already indexed
xds_dimension = xds_indexed.expand_dims({'x': [1], 'y': [2]}).drop_vars('TIMESTAMP_START')
#Converting x,y to float64 
xds_dimension['x'] = xds_dimension['x'].astype('float64')
xds_dimension['y'] = xds_dimension['y'].astype('float64')

# Assign the coordinate arrays to the dataset
xds_dimension = xds_dimension.assign_coords({'x': input_data['x'].values  , 'y': input_data['y'].values})
# Convert the desired date to a pandas Timestamp

# Get the minimum time value in the dataset
min_time = pd.Timestamp(xds_dimension.time.min().values)

# Set the start_date to 2012-01-01 if the minimum time is before 2012, otherwise keep it the same
start_date = pd.Timestamp('2012-01-01 00:00:00') if min_time < pd.Timestamp('2012-01-01') else min_time

# Select data from 'xds_dimension' after the start_date
xds_dimension = xds_dimension.sel(time=slice(start_date, None))


result = xr.open_dataset("/home/khanalp/STEMMUSSCOPE/STEMMUS_SCOPE/ICOS_sites/BE-Lon/output/BE-Lon_2024-03-11-1644/BE-Lon_2024-03-11-1644_STEMMUS_SCOPE.nc")


result


sel(time=slice(start_time, end_time))


selected_flux = xds_dimension.sel(time = slice(result.time.values.min(),result.time.values.max()))


selected_flux


selected_flux.Qle_cor.plot()
result.Qle.plot()


def kgCO2_to_umolCO2(kgCO2):
    # Convert kilograms to grams
    gramsCO2 = kgCO2 * 1000
    
    # Convert grams to moles
    molesCO2 = gramsCO2 / 44.01  # Molecular weight of CO2 is 44.01 g/mol
    
    # Convert moles to umol
    umolCO2 = molesCO2 * 1e6
    
    return umolCO2


selected_flux.GPP.plot()
kgCO2_to_umolCO2(result.GPP).plot()
#result.GPP.plot()








initial_condition = xr.open_dataset("/home/khanalp/task1/data/ICOS/Initial_condition/IT-Lsn_2016-01-01_InitialCondition.nc")


initial_condition.time.values


# Check for variables with value -9999 and count NaN values
missing_variables = {}

for var in input_data.data_vars:
    # Count occurrences of -9999 and NaN values
    missing_values_count = input_data[var].isin([-9999]).sum() + input_data[var].isnull().sum()
    if missing_values_count > 0:
        missing_variables[var] = missing_values_count

# Print the missing variables and count, if any
if missing_variables:
    print("Variables with missing values (-9999 and NAs) and their counts:")
    for var, count in missing_variables.items():
        print(f"{var}: {count}")
else:
    print("No variables with missing values (-9999 and NAs) found.")


# Check for missing variables
missing_variables = []

for var in input_data.data_vars:
    if input_data[var].isnull().any():
        missing_variables.append(var)

# Print the missing variables, if any
if missing_variables:
    print("Missing variables:")
    for var in missing_variables:
        print(var)
else:
    print("No missing variables found.")




