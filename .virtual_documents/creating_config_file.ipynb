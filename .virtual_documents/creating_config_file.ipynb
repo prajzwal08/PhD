import xarray as xr
import pandas as pd
import os
from datetime import datetime


file_location = "/home/khanalp/task1/data/ICOS/Input_data/"


# List all files in the directory
files = os.listdir(file_location)

# Filter out only NetCDF files
nc_files = [file for file in files if file.endswith('.nc')]


os.path.join(file_location,files)


# Initialize an empty list to store data
data = []


for file in nc_files:
    path = os.path.join(file_location,file)
    station_name = file.split('_')[0]
    print(station_name)
    ds = xr.open_dataset(path)
    # Get the minimum and maximum time values
    min_time = ds.time.min().values
    max_time = ds.time.max().values
    # Format the time values as required
       # Format the time values as required
    min_time_str = datetime.utcfromtimestamp(min_time.tolist() / 1e9).strftime('%Y-%m-%dT%H:%M')
    max_time_str = datetime.utcfromtimestamp(max_time.tolist() / 1e9).strftime('%Y-%m-%dT%H:%M')
    # Append data to the list
    data.append([station_name, min_time_str, max_time_str])
    
    # Close the dataset
    ds.close()


# Create a DataFrame from the list of data
df = pd.DataFrame(data, columns=['Station_Name', 'Start_Time', 'End_Time'])


df.to_csv("info_for_configfile.csv")


df


station_names = df['Station_Name']



# Change directory to the desired location
ICOS_site_path = "/home/khanalp/STEMMUSSCOPE/STEMMUS_SCOPE/ICOS_sites"


for station_name in station_names:
    start_time = df.loc[df['Station_Name'] == station_name, 'Start_Time'].values[0]
    end_time = df.loc[df['Station_Name'] == station_name, 'End_Time'].values[0]
    print(station_name, start_time, end_time)
    
    # Define config template inside the loop
    config_template = f"""\
WorkDir=/home/khanalp/STEMMUSSCOPE/STEMMUS_SCOPE/ICOS_sites/{station_name}/
SoilPropertyPath=/home/khanalp/STEMMUSSCOPE/STEMMUS_SCOPE/input/SoilProperty/
ForcingPath=/home/khanalp/task1/data/ICOS/Input_data/
Location={station_name}
directional=/home/khanalp/STEMMUSSCOPE/STEMMUS_SCOPE/input/directional/
fluspect_parameters=/home/khanalp/STEMMUSSCOPE/STEMMUS_SCOPE/input/fluspect_parameters/
leafangles=/home/khanalp/STEMMUSSCOPE/STEMMUS_SCOPE/input/leafangles/
radiationdata=/home/khanalp/STEMMUSSCOPE/STEMMUS_SCOPE/input/radiationdata/
soil_spectrum=/home/khanalp/STEMMUSSCOPE/STEMMUS_SCOPE/input/soil_spectrum/
input_data=/home/khanalp/STEMMUSSCOPE/STEMMUS_SCOPE/input/input_data.xlsx
InitialConditionPath=/home/khanalp/task1/data/ICOS/Initial_condition/
StartTime={start_time}
EndTime={end_time}
InputPath=
OutputPath=
"""

    # Construct the directory path
    station_dir = os.path.join(ICOS_site_path, station_name)
    # Create station folder if it doesn't exist
    if not os.path.exists(station_dir):
        os.makedirs(station_dir)

    # Write config file
    with open(os.path.join(station_dir, "config_file.txt"), "w") as file:
        file.write(config_template)

    # # Open and print the contents of the written config file
    # with open(os.path.join(station_dir, "config_file.txt"), "r") as file:
    #     print(file.read())

    #break  # Remove this line if you want to process all stations, it's just for demonstration purposes






