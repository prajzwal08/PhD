import os
import shutil


source_folder = "/home/khanalp/STEMMUSSCOPE/STEMMUS_SCOPE/input/Initial_condition/"


files = os.listdir(source_folder)


# Check if any file starts with "Fr-Lgt"
contains_f_Hor = [file.startswith('NL-Hor') for file in files]

if contains_Fr_Lgt:
    print("At least one file starts with 'NL-Lgt'")
else:
    print("No file starts with 'Fr-Lgt'")


contains_NL_Hor = [file for file in files if 'NL-Hor' in file]


contains_NL_Hor


# Destination directory where files will be copied
destination_folder = '/home/khanalp/code/PhD/output'


# Copy files to the destination folder
for file in contains_NL_Hor:
    source_path = os.path.join(source_folder, file)
    destination_path = os.path.join(destination_folder, file)
    shutil.copy(source_path, destination_path)


# Source directory containing the files
folder = '/home/khanalp/code/PhD/output'

# List all files in the source directory
files = os.listdir(folder)

# Iterate over each file
for file in files:
    # Check if the file contains 'NL-Hor'
    if 'Fr_Lgt' in file:
        # Construct the new filename by replacing 'NL-Hor' with 'Fr_Lgt'
        new_file = file.replace('Fr_Lgt', 'FR-Lgt')
        # Construct the source and destination paths
        source_path = os.path.join(folder, file)
        destination_path = os.path.join(folder, new_file)
        # Rename the file
        os.rename(source_path, destination_path)

print("Files renamed successfully.")


# Source directory containing the files
folder = '/home/khanalp/code/PhD/output'

# List all files in the source directory
files = os.listdir(folder)

# Iterate over each file
for file in files:
    # Check if the file contains 'NL-Hor'
    if '2008' in file:
        # Construct the new filename by replacing 'NL-Hor' with 'Fr_Lgt'
        new_file = file.replace('2008', '2017')
        # Construct the source and destination paths
        source_path = os.path.join(folder, file)
        destination_path = os.path.join(folder, new_file)
        # Rename the file
        os.rename(source_path, destination_path)

print("Files renamed successfully.")


import os
import shutil

# Source directory containing the files
source_folder = '/home/khanalp/code/PhD/output'

# Destination directory where files will be copied
destination_folder = '/home/khanalp/STEMMUSSCOPE/STEMMUS_SCOPE/input/Initial_condition/'

# List all files in the source directory
files = os.listdir(source_folder)

# Iterate over each file
for file in files:
    # Check if the file starts with 'Fr_Lgt_20170101_00'
    if file.startswith('FR-Lgt_20170101_00'):
        # Construct the source and destination paths
        source_path = os.path.join(source_folder, file)
        destination_path = os.path.join(destination_folder, file)
        # Copy the file to the destination folder
        shutil.copy(source_path, destination_path)

print("Files copied successfully.")


import os

# Directory containing the files
directory = "/home/khanalp/STEMMUSSCOPE/STEMMUS_SCOPE/input/Initial_condition/"

# List all files in the directory
files = os.listdir(directory)

# Filter files starting with 'Fr-Lgt'
fr_lgt_files = [file for file in files if file.startswith('FR-Lgt')]




fr_lgt_files


try:
    import PyStemmusScope
except ImportError, e:
    pass  # module doesn't exist, deal with it.





!pip install pystemmusscope



