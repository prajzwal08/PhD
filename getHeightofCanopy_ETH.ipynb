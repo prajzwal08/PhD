{
 "cells": [
  {
   "cell_type": "code",
   "execution_count": 2,
   "id": "8a5e8742-c423-4cae-aac4-ed95e5887fd5",
   "metadata": {},
   "outputs": [],
   "source": [
    "import ee\n",
    "import pandas as pd"
   ]
  },
  {
   "cell_type": "code",
   "execution_count": 3,
   "id": "7ebd0bb2-302a-45bb-987d-51141dd83710",
   "metadata": {},
   "outputs": [
    {
     "data": {
      "text/html": [
       "<p>To authorize access needed by Earth Engine, open the following\n",
       "        URL in a web browser and follow the instructions:</p>\n",
       "        <p><a href=https://code.earthengine.google.com/client-auth?scopes=https%3A//www.googleapis.com/auth/earthengine%20https%3A//www.googleapis.com/auth/devstorage.full_control&request_id=lCmWhlifGCt3FVYgaa0ddfSQhMUDSEQkoSl_SJ99rog&tc=nL_PQsFRONWhyULPF9_jyFZRLI0C4EegU4JkSBHH_0Y&cc=eBHpDY5N-bte5no9sTXBYtUF-yHMJAKIZ53Ea8ywU_k>https://code.earthengine.google.com/client-auth?scopes=https%3A//www.googleapis.com/auth/earthengine%20https%3A//www.googleapis.com/auth/devstorage.full_control&request_id=lCmWhlifGCt3FVYgaa0ddfSQhMUDSEQkoSl_SJ99rog&tc=nL_PQsFRONWhyULPF9_jyFZRLI0C4EegU4JkSBHH_0Y&cc=eBHpDY5N-bte5no9sTXBYtUF-yHMJAKIZ53Ea8ywU_k</a></p>\n",
       "        <p>The authorization workflow will generate a code, which you should paste in the box below.</p>\n",
       "        "
      ],
      "text/plain": [
       "<IPython.core.display.HTML object>"
      ]
     },
     "metadata": {},
     "output_type": "display_data"
    },
    {
     "name": "stdin",
     "output_type": "stream",
     "text": [
      "Enter verification code:  4/1AeaYSHDoVBY2Q8CcVzmDyqZ0QELcw_zDPs83Rn-rZx0mzpwfiwIWBh7b8Hc\n"
     ]
    },
    {
     "name": "stdout",
     "output_type": "stream",
     "text": [
      "\n",
      "Successfully saved authorization token.\n"
     ]
    }
   ],
   "source": [
    "ee.Authenticate()"
   ]
  },
  {
   "cell_type": "code",
   "execution_count": 4,
   "id": "6a1e1727-fb8d-48ad-a5f3-91ccc5c3b17f",
   "metadata": {},
   "outputs": [],
   "source": [
    "ee.Initialize()"
   ]
  },
  {
   "cell_type": "code",
   "execution_count": 13,
   "id": "4ec6c48d-64ee-422f-81a4-dd0f5f9de1ee",
   "metadata": {},
   "outputs": [
    {
     "data": {
      "text/plain": [
       "['b1']"
      ]
     },
     "execution_count": 13,
     "metadata": {},
     "output_type": "execute_result"
    }
   ],
   "source": [
    "canopy_height = ee.Image('users/nlang/ETH_GlobalCanopyHeight_2020_10m_v1')\n",
    "canopy_height.bandNames().getInfo()"
   ]
  },
  {
   "cell_type": "code",
   "execution_count": 19,
   "id": "d108d88c-e10c-44c6-ab75-9b7243dc2e54",
   "metadata": {},
   "outputs": [
    {
     "data": {
      "text/plain": [
       "['b1']"
      ]
     },
     "execution_count": 19,
     "metadata": {},
     "output_type": "execute_result"
    }
   ],
   "source": [
    "sd_canopy = ee.Image('users/nlang/ETH_GlobalCanopyHeightSD_2020_10m_v1')\n",
    "sd_canopy.bandNames().getInfo()"
   ]
  },
  {
   "cell_type": "code",
   "execution_count": 9,
   "id": "1a860a6a-5529-466f-a0d8-800650449f0b",
   "metadata": {},
   "outputs": [],
   "source": [
    "#This is the location of the flux sites, later this should be read from the folder.\n",
    "target_location = (2.284102, 47.322918) "
   ]
  },
  {
   "cell_type": "code",
   "execution_count": 22,
   "id": "3bf54635-42e4-4cf0-b3da-67333792d6e6",
   "metadata": {},
   "outputs": [
    {
     "name": "stdout",
     "output_type": "stream",
     "text": [
      "Canopy height value at target location: 15\n",
      "sd of Canopy height value at target location: 7\n"
     ]
    }
   ],
   "source": [
    "# Define the target location\n",
    "target_location = ee.Geometry.Point(2.284102, 47.322918) #ee.Geometry.Point(lng, lat)\n",
    "\n",
    "# Sample the canopy height image at the target location\n",
    "height_canopy = canopy_height.sample(target_location, 10).first().get('b1').getInfo()  # Change 'b1' to appropriate band name if needed\n",
    "sd_height_canopy = sd_canopy.sample(target_location, 10).first().get('b1').getInfo()\n",
    "# Print the value\n",
    "print('Canopy height value at target location:', height_canopy)\n",
    "print('sd of Canopy height value at target location:', sd_height_canopy)"
   ]
  },
  {
   "cell_type": "code",
   "execution_count": 18,
   "id": "1fe91582-77af-46f4-96ed-85d8ba94a492",
   "metadata": {},
   "outputs": [
    {
     "data": {
      "text/plain": [
       "15"
      ]
     },
     "execution_count": 18,
     "metadata": {},
     "output_type": "execute_result"
    }
   ],
   "source": [
    "sample_value"
   ]
  },
  {
   "cell_type": "code",
   "execution_count": null,
   "id": "c48acdeb-e138-41e1-9221-c964386cd5fd",
   "metadata": {},
   "outputs": [],
   "source": []
  }
 ],
 "metadata": {
  "kernelspec": {
   "display_name": "Python 3 (ipykernel)",
   "language": "python",
   "name": "python3"
  },
  "language_info": {
   "codemirror_mode": {
    "name": "ipython",
    "version": 3
   },
   "file_extension": ".py",
   "mimetype": "text/x-python",
   "name": "python",
   "nbconvert_exporter": "python",
   "pygments_lexer": "ipython3",
   "version": "3.11.5"
  }
 },
 "nbformat": 4,
 "nbformat_minor": 5
}
