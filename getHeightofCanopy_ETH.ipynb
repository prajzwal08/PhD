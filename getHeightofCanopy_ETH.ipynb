{
 "cells": [
  {
   "cell_type": "code",
   "execution_count": 1,
   "id": "8a5e8742-c423-4cae-aac4-ed95e5887fd5",
   "metadata": {},
   "outputs": [],
   "source": [
    "import ee\n",
    "import pandas as pd\n",
    "import os\n",
    "import xarray as xr"
   ]
  },
  {
   "cell_type": "code",
   "execution_count": null,
   "id": "7ebd0bb2-302a-45bb-987d-51141dd83710",
   "metadata": {},
   "outputs": [
    {
     "data": {
      "text/html": [
       "<p>To authorize access needed by Earth Engine, open the following\n",
       "        URL in a web browser and follow the instructions:</p>\n",
       "        <p><a href=https://code.earthengine.google.com/client-auth?scopes=https%3A//www.googleapis.com/auth/earthengine%20https%3A//www.googleapis.com/auth/devstorage.full_control&request_id=KMTmLR3QQK-kyQwZ5RsdO_E2jKtdYnglhlMHvO15St4&tc=r6_frM1LuwmavjUWdznmHXDj-IoGUW_iSJiV5jI4qEc&cc=-azvRKJsgS5WnjlEsE7Xia6-yRKSHtpLFJdXk0pd0JE>https://code.earthengine.google.com/client-auth?scopes=https%3A//www.googleapis.com/auth/earthengine%20https%3A//www.googleapis.com/auth/devstorage.full_control&request_id=KMTmLR3QQK-kyQwZ5RsdO_E2jKtdYnglhlMHvO15St4&tc=r6_frM1LuwmavjUWdznmHXDj-IoGUW_iSJiV5jI4qEc&cc=-azvRKJsgS5WnjlEsE7Xia6-yRKSHtpLFJdXk0pd0JE</a></p>\n",
       "        <p>The authorization workflow will generate a code, which you should paste in the box below.</p>\n",
       "        "
      ],
      "text/plain": [
       "<IPython.core.display.HTML object>"
      ]
     },
     "metadata": {},
     "output_type": "display_data"
    }
   ],
   "source": [
    "ee.Authenticate()"
   ]
  },
  {
   "cell_type": "code",
   "execution_count": 3,
   "id": "6a1e1727-fb8d-48ad-a5f3-91ccc5c3b17f",
   "metadata": {},
   "outputs": [],
   "source": [
    "ee.Initialize()"
   ]
  },
  {
   "cell_type": "code",
   "execution_count": 2,
   "id": "9cc5fff1-efa1-4ee1-9f8b-e62368f233fe",
   "metadata": {},
   "outputs": [],
   "source": [
    "stations = pd.read_excel(\"Stationdetails.xlsx\")"
   ]
  },
  {
   "cell_type": "code",
   "execution_count": 3,
   "id": "12bc5cf5-f889-49a0-acf1-10f3a5e5b6b7",
   "metadata": {},
   "outputs": [
    {
     "data": {
      "text/html": [
       "<div>\n",
       "<style scoped>\n",
       "    .dataframe tbody tr th:only-of-type {\n",
       "        vertical-align: middle;\n",
       "    }\n",
       "\n",
       "    .dataframe tbody tr th {\n",
       "        vertical-align: top;\n",
       "    }\n",
       "\n",
       "    .dataframe thead th {\n",
       "        text-align: right;\n",
       "    }\n",
       "</style>\n",
       "<table border=\"1\" class=\"dataframe\">\n",
       "  <thead>\n",
       "    <tr style=\"text-align: right;\">\n",
       "      <th></th>\n",
       "      <th>station_name</th>\n",
       "      <th>start_year</th>\n",
       "      <th>end_year</th>\n",
       "      <th>Name</th>\n",
       "      <th>Country</th>\n",
       "      <th>Position (lon,lat)</th>\n",
       "      <th>Site type (IGBP)</th>\n",
       "      <th>Elevation above sea</th>\n",
       "    </tr>\n",
       "  </thead>\n",
       "  <tbody>\n",
       "    <tr>\n",
       "      <th>0</th>\n",
       "      <td>BE-Bra</td>\n",
       "      <td>1996</td>\n",
       "      <td>2020</td>\n",
       "      <td>Brasschaat</td>\n",
       "      <td>Belgium (BE)</td>\n",
       "      <td>4.51984,51.30761</td>\n",
       "      <td>evergreen needleleaf forests</td>\n",
       "      <td>160 (m)</td>\n",
       "    </tr>\n",
       "    <tr>\n",
       "      <th>1</th>\n",
       "      <td>BE-Dor</td>\n",
       "      <td>2011</td>\n",
       "      <td>2020</td>\n",
       "      <td>Dorinne</td>\n",
       "      <td>Belgium (BE)</td>\n",
       "      <td>4.968113,50.311874</td>\n",
       "      <td>grasslands</td>\n",
       "      <td>2530</td>\n",
       "    </tr>\n",
       "    <tr>\n",
       "      <th>2</th>\n",
       "      <td>BE-Lon</td>\n",
       "      <td>2004</td>\n",
       "      <td>2020</td>\n",
       "      <td>Lonzee</td>\n",
       "      <td>Belgium (BE)</td>\n",
       "      <td>4.746234,50.55162</td>\n",
       "      <td>croplands</td>\n",
       "      <td>1700</td>\n",
       "    </tr>\n",
       "    <tr>\n",
       "      <th>3</th>\n",
       "      <td>BE-Maa</td>\n",
       "      <td>2016</td>\n",
       "      <td>2020</td>\n",
       "      <td>Maasmechelen</td>\n",
       "      <td>Belgium (BE)</td>\n",
       "      <td>5.631851,50.97987</td>\n",
       "      <td>closed shrublands</td>\n",
       "      <td>870</td>\n",
       "    </tr>\n",
       "    <tr>\n",
       "      <th>4</th>\n",
       "      <td>BE-Vie</td>\n",
       "      <td>1996</td>\n",
       "      <td>2020</td>\n",
       "      <td>Vielsalm</td>\n",
       "      <td>Belgium (BE)</td>\n",
       "      <td>5.998099,50.304962</td>\n",
       "      <td>mixed forests</td>\n",
       "      <td>4900</td>\n",
       "    </tr>\n",
       "    <tr>\n",
       "      <th>...</th>\n",
       "      <td>...</td>\n",
       "      <td>...</td>\n",
       "      <td>...</td>\n",
       "      <td>...</td>\n",
       "      <td>...</td>\n",
       "      <td>...</td>\n",
       "      <td>...</td>\n",
       "      <td>...</td>\n",
       "    </tr>\n",
       "    <tr>\n",
       "      <th>63</th>\n",
       "      <td>CH-Dav</td>\n",
       "      <td>1997</td>\n",
       "      <td>2020</td>\n",
       "      <td>Davos</td>\n",
       "      <td>Switzerland (CH)</td>\n",
       "      <td>9.85591,46.81533</td>\n",
       "      <td>evergreen needleleaf forests</td>\n",
       "      <td>NaN</td>\n",
       "    </tr>\n",
       "    <tr>\n",
       "      <th>64</th>\n",
       "      <td>CH-Aws</td>\n",
       "      <td>2006</td>\n",
       "      <td>2020</td>\n",
       "      <td>Alp Weissenstein</td>\n",
       "      <td>Switzerland (CH)</td>\n",
       "      <td>9.790417,46.583194</td>\n",
       "      <td>grasslands</td>\n",
       "      <td>NaN</td>\n",
       "    </tr>\n",
       "    <tr>\n",
       "      <th>65</th>\n",
       "      <td>CH-Cha</td>\n",
       "      <td>2005</td>\n",
       "      <td>2020</td>\n",
       "      <td>Chamau</td>\n",
       "      <td>Switzerland (CH)</td>\n",
       "      <td>8.410444,47.210222</td>\n",
       "      <td>grasslands</td>\n",
       "      <td>393</td>\n",
       "    </tr>\n",
       "    <tr>\n",
       "      <th>66</th>\n",
       "      <td>CH-Fru</td>\n",
       "      <td>2005</td>\n",
       "      <td>2020</td>\n",
       "      <td>Fr¸eb¸el, Kt. Zug</td>\n",
       "      <td>Switzerland (CH)</td>\n",
       "      <td>8.537778 ,47.115833</td>\n",
       "      <td>grasslands</td>\n",
       "      <td>982</td>\n",
       "    </tr>\n",
       "    <tr>\n",
       "      <th>67</th>\n",
       "      <td>CH-Oe2</td>\n",
       "      <td>2004</td>\n",
       "      <td>2020</td>\n",
       "      <td>Oensingen</td>\n",
       "      <td>Switzerland (CH)</td>\n",
       "      <td>7.73375,47.286417</td>\n",
       "      <td>croplands</td>\n",
       "      <td>452</td>\n",
       "    </tr>\n",
       "  </tbody>\n",
       "</table>\n",
       "<p>68 rows × 8 columns</p>\n",
       "</div>"
      ],
      "text/plain": [
       "   station_name  start_year  end_year               Name           Country  \\\n",
       "0        BE-Bra        1996      2020         Brasschaat      Belgium (BE)   \n",
       "1        BE-Dor        2011      2020            Dorinne      Belgium (BE)   \n",
       "2        BE-Lon        2004      2020             Lonzee      Belgium (BE)   \n",
       "3        BE-Maa        2016      2020       Maasmechelen      Belgium (BE)   \n",
       "4        BE-Vie        1996      2020           Vielsalm      Belgium (BE)   \n",
       "..          ...         ...       ...                ...               ...   \n",
       "63       CH-Dav        1997      2020              Davos  Switzerland (CH)   \n",
       "64       CH-Aws        2006      2020   Alp Weissenstein  Switzerland (CH)   \n",
       "65       CH-Cha        2005      2020             Chamau  Switzerland (CH)   \n",
       "66       CH-Fru        2005      2020  Fr¸eb¸el, Kt. Zug  Switzerland (CH)   \n",
       "67       CH-Oe2        2004      2020          Oensingen  Switzerland (CH)   \n",
       "\n",
       "     Position (lon,lat)              Site type (IGBP) Elevation above sea  \n",
       "0      4.51984,51.30761  evergreen needleleaf forests             160 (m)  \n",
       "1    4.968113,50.311874                    grasslands                2530  \n",
       "2     4.746234,50.55162                     croplands                1700  \n",
       "3     5.631851,50.97987             closed shrublands                 870  \n",
       "4    5.998099,50.304962                 mixed forests                4900  \n",
       "..                  ...                           ...                 ...  \n",
       "63     9.85591,46.81533  evergreen needleleaf forests                 NaN  \n",
       "64   9.790417,46.583194                    grasslands                 NaN  \n",
       "65   8.410444,47.210222                    grasslands                 393  \n",
       "66  8.537778 ,47.115833                    grasslands                 982  \n",
       "67    7.73375,47.286417                     croplands                 452  \n",
       "\n",
       "[68 rows x 8 columns]"
      ]
     },
     "execution_count": 3,
     "metadata": {},
     "output_type": "execute_result"
    }
   ],
   "source": [
    "stations"
   ]
  },
  {
   "cell_type": "code",
   "execution_count": 61,
   "id": "43aa1a6a-1845-45f1-9c8a-3b7a381df6ad",
   "metadata": {},
   "outputs": [],
   "source": [
    "stations.rename(columns={'Position (lon,lat)': 'Position'}, inplace=True)"
   ]
  },
  {
   "cell_type": "code",
   "execution_count": 63,
   "id": "d9763a96-803c-469d-b455-04daec7bdfe3",
   "metadata": {},
   "outputs": [
    {
     "data": {
      "text/plain": [
       "0     evergreen needleleaf forests\n",
       "1                       grasslands\n",
       "2                        croplands\n",
       "3                closed shrublands\n",
       "4                    mixed forests\n",
       "                  ...             \n",
       "63    evergreen needleleaf forests\n",
       "64                      grasslands\n",
       "65                      grasslands\n",
       "66                      grasslands\n",
       "67                       croplands\n",
       "Name: Site type (IGBP), Length: 68, dtype: object"
      ]
     },
     "execution_count": 63,
     "metadata": {},
     "output_type": "execute_result"
    }
   ],
   "source": [
    "stations['Site type (IGBP)']"
   ]
  },
  {
   "cell_type": "code",
   "execution_count": 65,
   "id": "bf4d0e6b-374f-4fc0-8834-f3035cdb6431",
   "metadata": {},
   "outputs": [],
   "source": [
    "stations_elevation = pd.read_csv('station_with_elevation_heightcanopy.csv')"
   ]
  },
  {
   "cell_type": "code",
   "execution_count": 67,
   "id": "cfaf38cd-9d53-4b5f-a4e0-4334e60b90b3",
   "metadata": {},
   "outputs": [],
   "source": [
    "stations_elevation['Site type (IGBP)'] = stations['Site type (IGBP)']"
   ]
  },
  {
   "cell_type": "code",
   "execution_count": 69,
   "id": "76e2db24-d27b-48cb-8f03-99e0c6e07cfd",
   "metadata": {},
   "outputs": [],
   "source": [
    "#Save this csv\n",
    "stations_elevation.to_csv('station_with_elevation_heightcanopy.csv', index=False)"
   ]
  },
  {
   "cell_type": "code",
   "execution_count": null,
   "id": "dc2c7678-2a88-42c6-b946-d0cc7dc483e6",
   "metadata": {},
   "outputs": [],
   "source": [
    "# Initialize an empty dictionary to store station_name, latitude, and longitude\n",
    "station_coordinates = {}\n",
    "\n",
    "# Iterate over each row in the DataFrame\n",
    "for index, row in stations.iterrows():\n",
    "    # Extract the station_name and position\n",
    "    station_name = row['station_name']\n",
    "    position = row['Position']\n",
    "    \n",
    "    # Split the position string to get latitude and longitude\n",
    "    longitude, latitude = map(float, position.split(','))\n",
    "    \n",
    "    # Store the station_name, latitude, and longitude in the dictionary\n",
    "    station_coordinates[station_name] = {'latitude': latitude, 'longitude': longitude}\n"
   ]
  },
  {
   "cell_type": "code",
   "execution_count": 30,
   "id": "aed83558-1d08-4a97-96bf-01bcff77dc62",
   "metadata": {},
   "outputs": [
    {
     "data": {
      "text/plain": [
       "{'BE-Bra': {'latitude': 51.30761, 'longitude': 4.51984},\n",
       " 'BE-Dor': {'latitude': 50.311874, 'longitude': 4.968113},\n",
       " 'BE-Lon': {'latitude': 50.55162, 'longitude': 4.746234},\n",
       " 'BE-Maa': {'latitude': 50.97987, 'longitude': 5.631851},\n",
       " 'BE-Vie': {'latitude': 50.304962, 'longitude': 5.998099},\n",
       " 'CZ-BK1': {'latitude': 49.502075, 'longitude': 18.536882},\n",
       " 'CZ-Lnz': {'latitude': 48.68155, 'longitude': 16.946331},\n",
       " 'CZ-KrP': {'latitude': 49.573257, 'longitude': 15.078773},\n",
       " 'CZ-RAJ': {'latitude': 49.4437236, 'longitude': 16.6965125},\n",
       " 'CZ-Stn': {'latitude': 17.9699, 'longitude': 49.03597},\n",
       " 'CZ-wet': {'latitude': 14.7704, 'longitude': 49.0247},\n",
       " 'DK-Sor': {'latitude': 55.48587, 'longitude': 11.644645},\n",
       " 'FI-Hyy': {'latitude': 61.84741, 'longitude': 24.29477},\n",
       " 'FI-Ken': {'latitude': 67.98721, 'longitude': 24.24301},\n",
       " 'FI-Let': {'latitude': 60.64183, 'longitude': 23.95952},\n",
       " 'FI-Sii': {'latitude': 61.83265, 'longitude': 24.19285},\n",
       " 'FI-Var': {'latitude': 67.7549, 'longitude': 29.61},\n",
       " 'FI-Qvd': {'latitude': 60.295242, 'longitude': 22.391607},\n",
       " 'FR-Aur': {'latitude': 43.54965, 'longitude': 1.106103},\n",
       " 'FR-Bil': {'latitude': 44.493652, 'longitude': -0.956092},\n",
       " 'FR-FBn': {'latitude': 43.24079, 'longitude': 5.67865},\n",
       " 'FR-Fon': {'latitude': 48.476357, 'longitude': 2.780096},\n",
       " 'FR-Gri': {'latitude': 48.84422, 'longitude': 1.95191},\n",
       " 'FR-Hes': {'latitude': 48.6741, 'longitude': 7.06465},\n",
       " 'FR-Lam': {'latitude': 43.496437, 'longitude': 1.237878},\n",
       " 'FR-LGt': {'latitude': 47.322918, 'longitude': 2.284102},\n",
       " 'FR-Tou': {'latitude': 43.572857, 'longitude': 1.37474},\n",
       " 'GF-Guy': {'latitude': 5.2787, 'longitude': -52.9248},\n",
       " 'DE-Geb': {'latitude': 51.09973, 'longitude': 10.91463},\n",
       " 'DE-Gri': {'latitude': 50.95004, 'longitude': 13.51259},\n",
       " 'DE-Hai': {'latitude': 51.079407, 'longitude': 10.452089},\n",
       " 'DE-HoH': {'latitude': 52.08656, 'longitude': 11.22235},\n",
       " 'DE-Hzd': {'latitude': 50.96381, 'longitude': 13.48978},\n",
       " 'DE-Kli': {'latitude': 50.89306, 'longitude': 13.52238},\n",
       " 'DE-RuR': {'latitude': 50.621914, 'longitude': 6.304126},\n",
       " 'DE-RuS': {'latitude': 50.865906, 'longitude': 6.4471445},\n",
       " 'DE-RuW': {'latitude': 50.50493, 'longitude': 6.3309627},\n",
       " 'DE-Tha': {'latitude': 50.96256, 'longitude': 13.56515},\n",
       " 'DE-Akm': {'latitude': 53.86617, 'longitude': 13.68342},\n",
       " 'DE-Obe': {'latitude': 50.78666, 'longitude': 13.72129},\n",
       " 'IL-Yat': {'latitude': 31.34504, 'longitude': 35.05198},\n",
       " 'IT-BCi': {'latitude': 40.52375, 'longitude': 14.957444},\n",
       " 'IT-Cp2': {'latitude': 41.704266, 'longitude': 12.357293},\n",
       " 'IT-Lsn': {'latitude': 45.740482, 'longitude': 12.750297},\n",
       " 'IT-MBo': {'latitude': 46.01468, 'longitude': 11.045831},\n",
       " 'IT-Ren': {'latitude': 46.58686, 'longitude': 11.43369},\n",
       " 'IT-SR2': {'latitude': 43.73202, 'longitude': 10.29091},\n",
       " 'IT-Tor': {'latitude': 45.84444, 'longitude': 7.578055},\n",
       " 'IT-Lav': {'latitude': 45.9562, 'longitude': 11.28132},\n",
       " 'NL-Spe': {'latitude': 52.255, 'longitude': 5.690278},\n",
       " 'RU-Fy2': {'latitude': 56.447603, 'longitude': 32.901878},\n",
       " 'RU-Fyo': {'latitude': 56.4615, 'longitude': 32.9221},\n",
       " 'ES-Abr': {'latitude': 38.701839, 'longitude': -6.785881},\n",
       " 'ES-Agu': {'latitude': 36.940046, 'longitude': -2.033208},\n",
       " 'ES-Cnd': {'latitude': 37.914998, 'longitude': -3.227659},\n",
       " 'ES-LJu': {'latitude': 36.926594, 'longitude': -2.752115},\n",
       " 'ES-LM1': {'latitude': 39.94269, 'longitude': -5.778683},\n",
       " 'ES-LM2': {'latitude': 39.934592, 'longitude': -5.775881},\n",
       " 'SE-Deg': {'latitude': 64.18203, 'longitude': 19.55654},\n",
       " 'SE-Htm': {'latitude': 56.09763, 'longitude': 13.41897},\n",
       " 'SE-Nor': {'latitude': 60.0865, 'longitude': 17.479504},\n",
       " 'SE-Svb': {'latitude': 64.25611, 'longitude': 19.7745},\n",
       " 'SE-Ros': {'latitude': 64.1725, 'longitude': 19.738},\n",
       " 'CH-Dav': {'latitude': 46.81533, 'longitude': 9.85591},\n",
       " 'CH-Aws': {'latitude': 46.583194, 'longitude': 9.790417},\n",
       " 'CH-Cha': {'latitude': 47.210222, 'longitude': 8.410444},\n",
       " 'CH-Fru': {'latitude': 47.115833, 'longitude': 8.537778},\n",
       " 'CH-Oe2': {'latitude': 47.286417, 'longitude': 7.73375}}"
      ]
     },
     "execution_count": 30,
     "metadata": {},
     "output_type": "execute_result"
    }
   ],
   "source": [
    "station_coordinates"
   ]
  },
  {
   "cell_type": "code",
   "execution_count": 33,
   "id": "74ba7b24-5dbc-442d-93f7-1331b684ed56",
   "metadata": {},
   "outputs": [],
   "source": [
    "# Extract latitude and longitude for the station 'DK-Sor'\n",
    "latitude = float(station_coordinates['DK-Sor']['latitude'])\n",
    "longitude = float(station_coordinates['DK-Sor']['longitude'])"
   ]
  },
  {
   "cell_type": "code",
   "execution_count": 34,
   "id": "8925d3e8-a604-49bb-b446-068aa77ed163",
   "metadata": {},
   "outputs": [],
   "source": [
    "target_location = ee.Geometry.Point(longitude,latitude)"
   ]
  },
  {
   "cell_type": "code",
   "execution_count": 48,
   "id": "f5539f37-2762-4047-89ef-29e180166fba",
   "metadata": {},
   "outputs": [],
   "source": [
    "# Create an image collection for MODIS LAI data\n",
    "dem_collection = ee.ImageCollection(\"COPERNICUS/DEM/GLO30\") .filterBounds(target_location)\n",
    "dem_collection.size()\n",
    "dem = dem_collection.first()"
   ]
  },
  {
   "cell_type": "code",
   "execution_count": 36,
   "id": "9ff59b1d-d31f-47d2-9170-ed9847c1494f",
   "metadata": {},
   "outputs": [
    {
     "data": {
      "text/plain": [
       "['b1']"
      ]
     },
     "execution_count": 36,
     "metadata": {},
     "output_type": "execute_result"
    }
   ],
   "source": [
    "canopy_height = ee.Image('users/nlang/ETH_GlobalCanopyHeight_2020_10m_v1')\n",
    "canopy_height.bandNames().getInfo()"
   ]
  },
  {
   "cell_type": "code",
   "execution_count": 37,
   "id": "061feda9-c857-4ef0-96fe-357a5458fad6",
   "metadata": {},
   "outputs": [
    {
     "data": {
      "text/plain": [
       "['b1']"
      ]
     },
     "execution_count": 37,
     "metadata": {},
     "output_type": "execute_result"
    }
   ],
   "source": [
    "sd_canopy = ee.Image('users/nlang/ETH_GlobalCanopyHeightSD_2020_10m_v1')\n",
    "sd_canopy.bandNames().getInfo()"
   ]
  },
  {
   "cell_type": "code",
   "execution_count": 51,
   "id": "83a3f22c-6d65-451a-a543-adeff7a996c3",
   "metadata": {},
   "outputs": [
    {
     "data": {
      "text/plain": [
       "['DEM', 'EDM', 'FLM', 'HEM', 'WBM']"
      ]
     },
     "execution_count": 51,
     "metadata": {},
     "output_type": "execute_result"
    }
   ],
   "source": [
    "dem.bandNames().getInfo()"
   ]
  },
  {
   "cell_type": "code",
   "execution_count": 56,
   "id": "8e49ce53-6e51-4622-8f4e-5de5aa11947f",
   "metadata": {},
   "outputs": [
    {
     "name": "stdout",
     "output_type": "stream",
     "text": [
      "None\n"
     ]
    }
   ],
   "source": [
    "# Get the elevation value at the specified point\n",
    "elevation = dem.sample(target_location, 30).get('DEM').getInfo()\n",
    "print(elevation)\n",
    "# Sample the canopy height image at the target location\n",
    "#height_canopy = canopy_height.sample(target_location, 10).first().get('b1').getInfo()  # Change 'b1' to appropriate band name if needed\n",
    "#sd_height_canopy = sd_canopy.sample(target_location, 10).first().get('b1').getInfo()"
   ]
  },
  {
   "cell_type": "code",
   "execution_count": 2,
   "id": "c48acdeb-e138-41e1-9221-c964386cd5fd",
   "metadata": {},
   "outputs": [],
   "source": [
    "## Zipping all files in the folder\n",
    "import os\n",
    "import zipfile\n",
    "\n",
    "# Directory containing zip files\n",
    "folder_path = '/home/khanalp/task1/data/ESACCILCCS/'\n",
    "\n",
    "# Iterate over files in the directory\n",
    "for filename in os.listdir(folder_path):\n",
    "    if filename.endswith('.zip'):\n",
    "        file_path = os.path.join(folder_path, filename)\n",
    "        with zipfile.ZipFile(file_path, 'r') as zip_ref:\n",
    "            zip_ref.extractall(folder_path)"
   ]
  },
  {
   "cell_type": "code",
   "execution_count": 7,
   "id": "239c2bff-ed81-4399-817f-54c9a203ccd7",
   "metadata": {},
   "outputs": [],
   "source": [
    "folder_path = '/home/khanalp/task1/data/ESACCILCCS/'"
   ]
  },
  {
   "cell_type": "code",
   "execution_count": 8,
   "id": "60cf299e-5af4-4257-8426-d04111058966",
   "metadata": {},
   "outputs": [],
   "source": [
    "files = [os.path.join(folder_path, file) for file in os.listdir(folder_path) if file.endswith('.nc')]"
   ]
  },
  {
   "cell_type": "code",
   "execution_count": 9,
   "id": "85e752c5-2b5a-4c1c-b491-b07a1f5454dc",
   "metadata": {},
   "outputs": [],
   "source": [
    "da = xr.open_mfdataset(files)"
   ]
  },
  {
   "cell_type": "code",
   "execution_count": 22,
   "id": "ae09df28-de77-4193-ba89-bbcd3ef09f28",
   "metadata": {},
   "outputs": [
    {
     "data": {
      "text/plain": [
       "100"
      ]
     },
     "execution_count": 22,
     "metadata": {},
     "output_type": "execute_result"
    }
   ],
   "source": [
    "da[\"lccs_class\"].attrs[\"flag_values\"].flatten()[18]"
   ]
  },
  {
   "cell_type": "code",
   "execution_count": 24,
   "id": "8add1e7c-d8e0-45ea-a7b7-f6bd21c6e2f4",
   "metadata": {},
   "outputs": [
    {
     "data": {
      "text/plain": [
       "'no_data cropland_rainfed cropland_rainfed_herbaceous_cover cropland_rainfed_tree_or_shrub_cover cropland_irrigated mosaic_cropland mosaic_natural_vegetation tree_broadleaved_evergreen_closed_to_open tree_broadleaved_deciduous_closed_to_open tree_broadleaved_deciduous_closed tree_broadleaved_deciduous_open tree_needleleaved_evergreen_closed_to_open tree_needleleaved_evergreen_closed tree_needleleaved_evergreen_open tree_needleleaved_deciduous_closed_to_open tree_needleleaved_deciduous_closed tree_needleleaved_deciduous_open tree_mixed mosaic_tree_and_shrub mosaic_herbaceous shrubland shrubland_evergreen shrubland_deciduous grassland lichens_and_mosses sparse_vegetation sparse_tree sparse_shrub sparse_herbaceous tree_cover_flooded_fresh_or_brakish_water tree_cover_flooded_saline_water shrub_or_herbaceous_cover_flooded urban bare_areas bare_areas_consolidated bare_areas_unconsolidated water snow_and_ice'"
      ]
     },
     "execution_count": 24,
     "metadata": {},
     "output_type": "execute_result"
    }
   ],
   "source": [
    "da[\"lccs_class\"].attrs[\"flag_meanings\"]"
   ]
  },
  {
   "cell_type": "code",
   "execution_count": 19,
   "id": "7a3a87f0-774c-4719-8496-6d569e6ca253",
   "metadata": {},
   "outputs": [],
   "source": [
    "# Find the nearest grid cell to the target location\n",
    "nearest_cell = da.sel(lat=target_location[1], lon=target_location[0], method='nearest')\n",
    "\n",
    "# Select the lccs_class variable from the nearest cell\n",
    "lccs_class_data = nearest_cell['lccs_class']"
   ]
  },
  {
   "cell_type": "code",
   "execution_count": 22,
   "id": "7054fe51-ced0-4b37-8c3b-e4f5f0adf429",
   "metadata": {},
   "outputs": [
    {
     "data": {
      "text/plain": [
       "array([100, 100, 100, 100, 100, 100, 100, 100, 100, 100, 100, 100, 100,\n",
       "       100, 100, 100, 100, 100, 100, 100, 100, 100, 100, 100, 100, 100,\n",
       "       100, 100, 100], dtype=uint8)"
      ]
     },
     "execution_count": 22,
     "metadata": {},
     "output_type": "execute_result"
    }
   ],
   "source": [
    "lccs_class_data.values"
   ]
  },
  {
   "cell_type": "code",
   "execution_count": 25,
   "id": "77a8f306-246a-48bb-8496-a9908a14c209",
   "metadata": {},
   "outputs": [],
   "source": [
    "import xarray as xr"
   ]
  },
  {
   "cell_type": "code",
   "execution_count": 26,
   "id": "0a8b0039-c7e7-4781-8700-06a2447fda5b",
   "metadata": {},
   "outputs": [],
   "source": [
    "cams = xr.open_dataset(\"/home/khanalp/task1/data/cams/cams.nc\")"
   ]
  },
  {
   "cell_type": "code",
   "execution_count": 30,
   "id": "575f3322-ae45-468b-8af0-5589f141a9bc",
   "metadata": {},
   "outputs": [
    {
     "data": {
      "text/plain": [
       "[<matplotlib.lines.Line2D at 0x7f199e757c10>]"
      ]
     },
     "execution_count": 30,
     "metadata": {},
     "output_type": "execute_result"
    },
    {
     "data": {
      "image/png": "[encoded data removed]",
      "text/plain": [
       "<Figure size 640x480 with 1 Axes>"
      ]
     },
     "metadata": {},
     "output_type": "display_data"
    }
   ],
   "source": [
    "import matplotlib.pyplot as plt\n",
    "plt.plot(cams.co2.values.flatten())"
   ]
  },
  {
   "cell_type": "code",
   "execution_count": null,
   "id": "98007bcd-5b7b-43e0-b9c1-c5f710ae7238",
   "metadata": {},
   "outputs": [],
   "source": []
  }
 ],
 "metadata": {
  "kernelspec": {
   "display_name": "Python 3 (ipykernel)",
   "language": "python",
   "name": "python3"
  },
  "language_info": {
   "codemirror_mode": {
    "name": "ipython",
    "version": 3
   },
   "file_extension": ".py",
   "mimetype": "text/x-python",
   "name": "python",
   "nbconvert_exporter": "python",
   "pygments_lexer": "ipython3",
   "version": "3.11.5"
  }
 },
 "nbformat": 4,
 "nbformat_minor": 5
}
