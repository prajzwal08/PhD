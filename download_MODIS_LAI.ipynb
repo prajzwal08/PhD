{
 "cells": [
  {
   "cell_type": "code",
   "execution_count": 3,
   "id": "85789a7f-555f-4f95-90c2-75e494f8805a",
   "metadata": {},
   "outputs": [],
   "source": [
    "import ee\n",
    "import pandas as pd"
   ]
  },
  {
   "cell_type": "code",
   "execution_count": 2,
   "id": "2af3960e-c91c-4f6b-93c7-3fb9a2dbb7d9",
   "metadata": {},
   "outputs": [
    {
     "data": {
      "text/html": [
       "<p>To authorize access needed by Earth Engine, open the following\n",
       "        URL in a web browser and follow the instructions:</p>\n",
       "        <p><a href=https://code.earthengine.google.com/client-auth?scopes=https%3A//www.googleapis.com/auth/earthengine%20https%3A//www.googleapis.com/auth/devstorage.full_control&request_id=sVV5gOi8mgZAAXYEc9_XkgdErtW7oTqLfeFHS9M9g_M&tc=Td0jyhbQw1Wi94Yb1ZVARKe5ky7V86E_eliRZncN1tU&cc=eD6lVqvkHvxBZdGDMo7_G2NOTI23fxYYwRWf_uussc0>https://code.earthengine.google.com/client-auth?scopes=https%3A//www.googleapis.com/auth/earthengine%20https%3A//www.googleapis.com/auth/devstorage.full_control&request_id=sVV5gOi8mgZAAXYEc9_XkgdErtW7oTqLfeFHS9M9g_M&tc=Td0jyhbQw1Wi94Yb1ZVARKe5ky7V86E_eliRZncN1tU&cc=eD6lVqvkHvxBZdGDMo7_G2NOTI23fxYYwRWf_uussc0</a></p>\n",
       "        <p>The authorization workflow will generate a code, which you should paste in the box below.</p>\n",
       "        "
      ],
      "text/plain": [
       "<IPython.core.display.HTML object>"
      ]
     },
     "metadata": {},
     "output_type": "display_data"
    },
    {
     "name": "stdin",
     "output_type": "stream",
     "text": [
      "Enter verification code:  4/1AeaYSHDQLkALuF_BrIrCPsXaXmHwSQu9fkVeyVpiBnMd5OuQkSHvYAT22co\n"
     ]
    },
    {
     "name": "stdout",
     "output_type": "stream",
     "text": [
      "\n",
      "Successfully saved authorization token.\n"
     ]
    }
   ],
   "source": [
    "ee.Authenticate()"
   ]
  },
  {
   "cell_type": "code",
   "execution_count": 5,
   "id": "adeea13c-a395-4c7f-be52-029e75e2b0f1",
   "metadata": {},
   "outputs": [],
   "source": [
    "ee.Initialize()"
   ]
  },
  {
   "cell_type": "code",
   "execution_count": 4,
   "id": "4c07d00b-2bf1-421f-913e-499fcb940bc6",
   "metadata": {},
   "outputs": [],
   "source": [
    "stations = pd.read_csv(\"/home/khanalp/task1/data/stations.csv\")"
   ]
  },
  {
   "cell_type": "code",
   "execution_count": 7,
   "id": "9b954655-5851-4dff-b835-e53c665a5a09",
   "metadata": {},
   "outputs": [
    {
     "data": {
      "text/plain": [
       "Id                     http://meta.icos-cp.eu/resources/stations/ES_F...\n",
       "Name                                                           La Guette\n",
       "Country                                                      France (FR)\n",
       "Position                                              2.284102 47.322918\n",
       "PI names                                                            Gogo\n",
       "Site type                                             permanent wetlands\n",
       "Elevation above sea                                                153.0\n",
       "Station class                                                 Associated\n",
       "Labeling date                                                 2019-11-21\n",
       "Name: 0, dtype: object"
      ]
     },
     "execution_count": 7,
     "metadata": {},
     "output_type": "execute_result"
    }
   ],
   "source": [
    "stations.iloc[0]"
   ]
  },
  {
   "cell_type": "code",
   "execution_count": 2,
   "id": "8ba141cb-4134-485f-ba5b-2ce20f3bd997",
   "metadata": {},
   "outputs": [
    {
     "ename": "NameError",
     "evalue": "name 'stations' is not defined",
     "output_type": "error",
     "traceback": [
      "\u001b[0;31m---------------------------------------------------------------------------\u001b[0m",
      "\u001b[0;31mNameError\u001b[0m                                 Traceback (most recent call last)",
      "Cell \u001b[0;32mIn[2], line 1\u001b[0m\n\u001b[0;32m----> 1\u001b[0m coordinates \u001b[38;5;241m=\u001b[39m stations\u001b[38;5;241m.\u001b[39mloc[\u001b[38;5;241m0\u001b[39m,[\u001b[38;5;124m'\u001b[39m\u001b[38;5;124mPosition\u001b[39m\u001b[38;5;124m'\u001b[39m]]\n",
      "\u001b[0;31mNameError\u001b[0m: name 'stations' is not defined"
     ]
    }
   ],
   "source": [
    "coordinates = stations.loc[0,['Position']]"
   ]
  },
  {
   "cell_type": "code",
   "execution_count": 31,
   "id": "a7a32942-4f4c-4d6a-afb2-a8cb650f6d17",
   "metadata": {},
   "outputs": [],
   "source": [
    "# Extracting the coordinates from the Series\n",
    "coordinate_str = coordinates.iloc[0]\n",
    "\n",
    "# Splitting the string to get latitude and longitude\n",
    "longitude, latitude = map(float, coordinate_str.split())"
   ]
  },
  {
   "cell_type": "code",
   "execution_count": 32,
   "id": "952d68c4-7a1b-47f8-97a2-389e7ea8f1dd",
   "metadata": {},
   "outputs": [],
   "source": [
    "# Define the location (longitude, latitude)\n",
    "point = ee.Geometry.Point(longitude, latitude)"
   ]
  },
  {
   "cell_type": "code",
   "execution_count": 34,
   "id": "650e6f8d-53d5-4bb0-b781-d53632f57555",
   "metadata": {},
   "outputs": [
    {
     "data": {
      "text/plain": [
       "{'type': 'Point', 'coordinates': [2.284102, 47.322918]}"
      ]
     },
     "execution_count": 34,
     "metadata": {},
     "output_type": "execute_result"
    }
   ],
   "source": [
    "point.getInfo()"
   ]
  },
  {
   "cell_type": "code",
   "execution_count": 35,
   "id": "4ba91caf-2826-4a4c-bd47-0723f8a77079",
   "metadata": {},
   "outputs": [],
   "source": [
    "# Define the date range\n",
    "start_date = '2000-01-01'\n",
    "end_date = '2020-12-31'"
   ]
  },
  {
   "cell_type": "code",
   "execution_count": 36,
   "id": "4f4b3b4b-d77b-4396-acc2-58789ae9bb1d",
   "metadata": {},
   "outputs": [],
   "source": [
    "# Create a buffer of 1km around the point\n",
    "buffered_point = point.buffer(500)"
   ]
  },
  {
   "cell_type": "code",
   "execution_count": 42,
   "id": "91f33937-551a-4c99-81fc-e187068aa168",
   "metadata": {},
   "outputs": [],
   "source": [
    "# Create an image collection for MODIS LAI data\n",
    "modis_collection = ee.ImageCollection('MODIS/006/MOD15A2H') \\\n",
    "    .filterBounds(buffered_point) \\\n",
    "    .filterDate(ee.Date(start_date), ee.Date(end_date)) \\\n",
    "    .select(['Lai_500m','FparLai_QC','LaiStdDev_500m']) #Add other bands too"
   ]
  },
  {
   "cell_type": "code",
   "execution_count": 44,
   "id": "21994c03-d76a-458a-85a1-8d65ef27f7b5",
   "metadata": {},
   "outputs": [
    {
     "data": {
      "text/plain": [
       "['Lai_500m', 'FparLai_QC', 'LaiStdDev_500m']"
      ]
     },
     "execution_count": 44,
     "metadata": {},
     "output_type": "execute_result"
    }
   ],
   "source": [
    "modis_collection.first().bandNames().getInfo()"
   ]
  },
  {
   "cell_type": "code",
   "execution_count": 43,
   "id": "5be659f9-2dab-440b-b356-0785ba4182b4",
   "metadata": {},
   "outputs": [
    {
     "name": "stdout",
     "output_type": "stream",
     "text": [
      "Number of images: 957\n"
     ]
    }
   ],
   "source": [
    "# Check the number of images in the collection\n",
    "print(\"Number of images:\", modis_collection.size().getInfo())"
   ]
  },
  {
   "cell_type": "code",
   "execution_count": 46,
   "id": "400bcaf2-2df9-47f1-b25e-e7c61afbc113",
   "metadata": {},
   "outputs": [],
   "source": [
    "# Define the export region\n",
    "export_region = buffered_point.bounds()"
   ]
  },
  {
   "cell_type": "code",
   "execution_count": 50,
   "id": "d468ca03-4e18-438d-ab7f-226e8385dc6d",
   "metadata": {},
   "outputs": [],
   "source": [
    "# Function to export images\n",
    "def export_image(image):\n",
    "    # Get the timestamp from system:time_start property\n",
    "    timestamp = ee.Date(image.get('system:time_start')).format('yyyyMMdd').getInfo()\n",
    "    \n",
    "    # Export the image to Google Drive\n",
    "    task = ee.batch.Export.image.toDrive(image=image,\n",
    "                                         description='MODIS_LAI' + timestamp,\n",
    "                                         folder='MODIS_LAI_Export',\n",
    "                                         region=export_region,\n",
    "                                         scale=500,\n",
    "                                         crs='EPSG:4326')\n",
    "    task.start()\n",
    "\n"
   ]
  },
  {
   "cell_type": "code",
   "execution_count": 51,
   "id": "d6fd1c8f-29eb-4714-8fa9-5814e4b5001d",
   "metadata": {},
   "outputs": [],
   "source": [
    "# Export all images in the collection\n",
    "image_list = modis_collection.toList(modis_collection.size())\n",
    "for i in range(image_list.size().getInfo()):\n",
    "    export_image(ee.Image(image_list.get(i)))"
   ]
  },
  {
   "cell_type": "markdown",
   "id": "8fd940f0-6511-45da-bfa9-95be8d20a4b7",
   "metadata": {},
   "source": [
    "**Steps to do**\n",
    "1) Read all tif files in the xarray.\n",
    "2) Then, select the grid cell containing particular location and neighboring 8 grid cells.\n",
    "3) Keep only good-quality data (QC flag values0, 2, 24, 26, 32, 34, 56, and 58) and set all other values to missing.\n",
    "4) At each time step, calculate a weighted mean from the nine pixels by weighting them by their standard deviation error (defined as $1/\\sigma^2$).\n",
    "5)  Gap fill the resulting 8-daily time series using a cubic spline function (Forsythe et al., 1977) and set any negative LAI values set to zero.\n",
    "6)  The gap-filled time series was first smoothed using a cubic smoothing spline.\n",
    "7)  A climatology (46 time steps) was then calculated from all available years.\n",
    "8)  An anomaly time series was then created by removing the climatology and smoothed by taking a rolling mean over a window of ±6 time steps to further remove short-term variability.\n",
    "9)  The climatology was then added to the smoothed time series and the 8-daily time series interpolated to the time resolution of\n",
    "the flux tower data using the climatological values prior to MODIS commencing in January 2000."
   ]
  },
  {
   "cell_type": "code",
   "execution_count": null,
   "id": "75e23c37-fc1f-4203-9345-2118f1896584",
   "metadata": {},
   "outputs": [],
   "source": []
  }
 ],
 "metadata": {
  "kernelspec": {
   "display_name": "Python 3 (ipykernel)",
   "language": "python",
   "name": "python3"
  },
  "language_info": {
   "codemirror_mode": {
    "name": "ipython",
    "version": 3
   },
   "file_extension": ".py",
   "mimetype": "text/x-python",
   "name": "python",
   "nbconvert_exporter": "python",
   "pygments_lexer": "ipython3",
   "version": "3.11.5"
  }
 },
 "nbformat": 4,
 "nbformat_minor": 5
}
