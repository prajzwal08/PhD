{
 "cells": [
  {
   "cell_type": "code",
   "execution_count": 1,
   "id": "85789a7f-555f-4f95-90c2-75e494f8805a",
   "metadata": {},
   "outputs": [],
   "source": [
    "import ee\n",
    "import pandas as pd"
   ]
  },
  {
   "cell_type": "code",
   "execution_count": 2,
   "id": "2666caa1-5061-41d9-874d-90086f9922e1",
   "metadata": {},
   "outputs": [
    {
     "data": {
      "text/html": [
       "<p>To authorize access needed by Earth Engine, open the following\n",
       "        URL in a web browser and follow the instructions:</p>\n",
       "        <p><a href=https://code.earthengine.google.com/client-auth?scopes=https%3A//www.googleapis.com/auth/earthengine%20https%3A//www.googleapis.com/auth/devstorage.full_control&request_id=sJrJyDioSds0utA7T_zwB00NyEwn7JJJNQGqF7C72HY&tc=EywnP6ds22bOF1MydQWxeB1jVSlTQV9W2Lfpe34SFqo&cc=KfszGdqrkx8xjpWFbhj4VRIOCyxt4w2i0sRBQmE-9Bg>https://code.earthengine.google.com/client-auth?scopes=https%3A//www.googleapis.com/auth/earthengine%20https%3A//www.googleapis.com/auth/devstorage.full_control&request_id=sJrJyDioSds0utA7T_zwB00NyEwn7JJJNQGqF7C72HY&tc=EywnP6ds22bOF1MydQWxeB1jVSlTQV9W2Lfpe34SFqo&cc=KfszGdqrkx8xjpWFbhj4VRIOCyxt4w2i0sRBQmE-9Bg</a></p>\n",
       "        <p>The authorization workflow will generate a code, which you should paste in the box below.</p>\n",
       "        "
      ],
      "text/plain": [
       "<IPython.core.display.HTML object>"
      ]
     },
     "metadata": {},
     "output_type": "display_data"
    },
    {
     "name": "stdin",
     "output_type": "stream",
     "text": [
      "Enter verification code:  4/1AeaYSHD9wW3aTs_KVV6a6L7RBdFm0368scyis1MVZbseTTdhg7OSLNtkVHA\n"
     ]
    },
    {
     "name": "stdout",
     "output_type": "stream",
     "text": [
      "\n",
      "Successfully saved authorization token.\n"
     ]
    }
   ],
   "source": [
    "import ee\n",
    "ee.Authenticate()\n",
    "# service_account = 'prajwalkhanal@modislaidownload.iam.gserviceaccount.com'\n",
    "# credentials = ee.ServiceAccountCredentials(service_account, '/home/khanalp/modislaidownload-06fa52f24bc6.json')\n",
    "# ee.Initialize(credentials)"
   ]
  },
  {
   "cell_type": "code",
   "execution_count": 3,
   "id": "0830c975-b21d-4aa4-a4cf-647479484024",
   "metadata": {},
   "outputs": [],
   "source": [
    "ee.Initialize()"
   ]
  },
  {
   "cell_type": "code",
   "execution_count": 4,
   "id": "73c7564e-5373-4b8f-9594-e5d798c24924",
   "metadata": {},
   "outputs": [],
   "source": [
    "stations = pd.read_excel(\"Stationdetails.xlsx\")"
   ]
  },
  {
   "cell_type": "code",
   "execution_count": 5,
   "id": "9951f10c-da06-4d52-8b8f-a4bf7bd53574",
   "metadata": {},
   "outputs": [
    {
     "data": {
      "text/html": [
       "<div>\n",
       "<style scoped>\n",
       "    .dataframe tbody tr th:only-of-type {\n",
       "        vertical-align: middle;\n",
       "    }\n",
       "\n",
       "    .dataframe tbody tr th {\n",
       "        vertical-align: top;\n",
       "    }\n",
       "\n",
       "    .dataframe thead th {\n",
       "        text-align: right;\n",
       "    }\n",
       "</style>\n",
       "<table border=\"1\" class=\"dataframe\">\n",
       "  <thead>\n",
       "    <tr style=\"text-align: right;\">\n",
       "      <th></th>\n",
       "      <th>station_name</th>\n",
       "      <th>start_year</th>\n",
       "      <th>end_year</th>\n",
       "      <th>Name</th>\n",
       "      <th>Country</th>\n",
       "      <th>Position (lon,lat)</th>\n",
       "      <th>Site type (IGBP)</th>\n",
       "      <th>Elevation above sea</th>\n",
       "    </tr>\n",
       "  </thead>\n",
       "  <tbody>\n",
       "    <tr>\n",
       "      <th>0</th>\n",
       "      <td>BE-Bra</td>\n",
       "      <td>1996</td>\n",
       "      <td>2020</td>\n",
       "      <td>Brasschaat</td>\n",
       "      <td>Belgium (BE)</td>\n",
       "      <td>4.51984,51.30761</td>\n",
       "      <td>evergreen needleleaf forests</td>\n",
       "      <td>160 (m)</td>\n",
       "    </tr>\n",
       "    <tr>\n",
       "      <th>1</th>\n",
       "      <td>BE-Dor</td>\n",
       "      <td>2011</td>\n",
       "      <td>2020</td>\n",
       "      <td>Dorinne</td>\n",
       "      <td>Belgium (BE)</td>\n",
       "      <td>4.968113,50.311874</td>\n",
       "      <td>grasslands</td>\n",
       "      <td>2530</td>\n",
       "    </tr>\n",
       "    <tr>\n",
       "      <th>2</th>\n",
       "      <td>BE-Lon</td>\n",
       "      <td>2004</td>\n",
       "      <td>2020</td>\n",
       "      <td>Lonzee</td>\n",
       "      <td>Belgium (BE)</td>\n",
       "      <td>4.746234,50.55162</td>\n",
       "      <td>croplands</td>\n",
       "      <td>1700</td>\n",
       "    </tr>\n",
       "    <tr>\n",
       "      <th>3</th>\n",
       "      <td>BE-Maa</td>\n",
       "      <td>2016</td>\n",
       "      <td>2020</td>\n",
       "      <td>Maasmechelen</td>\n",
       "      <td>Belgium (BE)</td>\n",
       "      <td>5.631851,50.97987</td>\n",
       "      <td>closed shrublands</td>\n",
       "      <td>870</td>\n",
       "    </tr>\n",
       "    <tr>\n",
       "      <th>4</th>\n",
       "      <td>BE-Vie</td>\n",
       "      <td>1996</td>\n",
       "      <td>2020</td>\n",
       "      <td>Vielsalm</td>\n",
       "      <td>Belgium (BE)</td>\n",
       "      <td>5.998099,50.304962</td>\n",
       "      <td>mixed forests</td>\n",
       "      <td>4900</td>\n",
       "    </tr>\n",
       "    <tr>\n",
       "      <th>...</th>\n",
       "      <td>...</td>\n",
       "      <td>...</td>\n",
       "      <td>...</td>\n",
       "      <td>...</td>\n",
       "      <td>...</td>\n",
       "      <td>...</td>\n",
       "      <td>...</td>\n",
       "      <td>...</td>\n",
       "    </tr>\n",
       "    <tr>\n",
       "      <th>63</th>\n",
       "      <td>CH-Dav</td>\n",
       "      <td>1997</td>\n",
       "      <td>2020</td>\n",
       "      <td>Davos</td>\n",
       "      <td>Switzerland (CH)</td>\n",
       "      <td>9.85591,46.81533</td>\n",
       "      <td>evergreen needleleaf forests</td>\n",
       "      <td>NaN</td>\n",
       "    </tr>\n",
       "    <tr>\n",
       "      <th>64</th>\n",
       "      <td>CH-Aws</td>\n",
       "      <td>2006</td>\n",
       "      <td>2020</td>\n",
       "      <td>Alp Weissenstein</td>\n",
       "      <td>Switzerland (CH)</td>\n",
       "      <td>9.790417,46.583194</td>\n",
       "      <td>grasslands</td>\n",
       "      <td>NaN</td>\n",
       "    </tr>\n",
       "    <tr>\n",
       "      <th>65</th>\n",
       "      <td>CH-Cha</td>\n",
       "      <td>2005</td>\n",
       "      <td>2020</td>\n",
       "      <td>Chamau</td>\n",
       "      <td>Switzerland (CH)</td>\n",
       "      <td>8.410444,47.210222</td>\n",
       "      <td>grasslands</td>\n",
       "      <td>393</td>\n",
       "    </tr>\n",
       "    <tr>\n",
       "      <th>66</th>\n",
       "      <td>CH-Fru</td>\n",
       "      <td>2005</td>\n",
       "      <td>2020</td>\n",
       "      <td>Fr¸eb¸el, Kt. Zug</td>\n",
       "      <td>Switzerland (CH)</td>\n",
       "      <td>8.537778 ,47.115833</td>\n",
       "      <td>grasslands</td>\n",
       "      <td>982</td>\n",
       "    </tr>\n",
       "    <tr>\n",
       "      <th>67</th>\n",
       "      <td>CH-Oe2</td>\n",
       "      <td>2004</td>\n",
       "      <td>2020</td>\n",
       "      <td>Oensingen</td>\n",
       "      <td>Switzerland (CH)</td>\n",
       "      <td>7.73375,47.286417</td>\n",
       "      <td>croplands</td>\n",
       "      <td>452</td>\n",
       "    </tr>\n",
       "  </tbody>\n",
       "</table>\n",
       "<p>68 rows × 8 columns</p>\n",
       "</div>"
      ],
      "text/plain": [
       "   station_name  start_year  end_year               Name           Country  \\\n",
       "0        BE-Bra        1996      2020         Brasschaat      Belgium (BE)   \n",
       "1        BE-Dor        2011      2020            Dorinne      Belgium (BE)   \n",
       "2        BE-Lon        2004      2020             Lonzee      Belgium (BE)   \n",
       "3        BE-Maa        2016      2020       Maasmechelen      Belgium (BE)   \n",
       "4        BE-Vie        1996      2020           Vielsalm      Belgium (BE)   \n",
       "..          ...         ...       ...                ...               ...   \n",
       "63       CH-Dav        1997      2020              Davos  Switzerland (CH)   \n",
       "64       CH-Aws        2006      2020   Alp Weissenstein  Switzerland (CH)   \n",
       "65       CH-Cha        2005      2020             Chamau  Switzerland (CH)   \n",
       "66       CH-Fru        2005      2020  Fr¸eb¸el, Kt. Zug  Switzerland (CH)   \n",
       "67       CH-Oe2        2004      2020          Oensingen  Switzerland (CH)   \n",
       "\n",
       "     Position (lon,lat)              Site type (IGBP) Elevation above sea  \n",
       "0      4.51984,51.30761  evergreen needleleaf forests             160 (m)  \n",
       "1    4.968113,50.311874                    grasslands                2530  \n",
       "2     4.746234,50.55162                     croplands                1700  \n",
       "3     5.631851,50.97987             closed shrublands                 870  \n",
       "4    5.998099,50.304962                 mixed forests                4900  \n",
       "..                  ...                           ...                 ...  \n",
       "63     9.85591,46.81533  evergreen needleleaf forests                 NaN  \n",
       "64   9.790417,46.583194                    grasslands                 NaN  \n",
       "65   8.410444,47.210222                    grasslands                 393  \n",
       "66  8.537778 ,47.115833                    grasslands                 982  \n",
       "67    7.73375,47.286417                     croplands                 452  \n",
       "\n",
       "[68 rows x 8 columns]"
      ]
     },
     "execution_count": 5,
     "metadata": {},
     "output_type": "execute_result"
    }
   ],
   "source": [
    "stations"
   ]
  },
  {
   "cell_type": "code",
   "execution_count": 6,
   "id": "2fb1cbf7-41d4-4c8f-b97b-6eac91b8fddb",
   "metadata": {},
   "outputs": [],
   "source": [
    "stations.rename(columns={'Position (lon,lat)': 'Position'}, inplace=True)"
   ]
  },
  {
   "cell_type": "code",
   "execution_count": 7,
   "id": "9b954655-5851-4dff-b835-e53c665a5a09",
   "metadata": {},
   "outputs": [],
   "source": [
    "# Initialize an empty dictionary to store station_name, latitude, and longitude\n",
    "station_coordinates = {}\n",
    "\n",
    "# Iterate over each row in the DataFrame\n",
    "for index, row in stations.iterrows():\n",
    "    # Extract the station_name and position\n",
    "    station_name = row['station_name']\n",
    "    position = row['Position']\n",
    "    \n",
    "    # Split the position string to get latitude and longitude\n",
    "    longitude, latitude = map(float, position.split(','))\n",
    "    \n",
    "    # Store the station_name, latitude, and longitude in the dictionary\n",
    "    station_coordinates[station_name] = {'latitude': latitude, 'longitude': longitude}\n"
   ]
  },
  {
   "cell_type": "code",
   "execution_count": 8,
   "id": "ce075d7f-4317-4cbe-83b6-b3d73babd4ce",
   "metadata": {},
   "outputs": [
    {
     "data": {
      "text/plain": [
       "68"
      ]
     },
     "execution_count": 8,
     "metadata": {},
     "output_type": "execute_result"
    }
   ],
   "source": [
    "len(station_coordinates)"
   ]
  },
  {
   "cell_type": "code",
   "execution_count": 9,
   "id": "c07890d7-1c07-44f2-8446-b01475786d32",
   "metadata": {},
   "outputs": [],
   "source": [
    "# Define the date range\n",
    "start_date = '2000-01-01'\n",
    "end_date = '2020-12-31'"
   ]
  },
  {
   "cell_type": "code",
   "execution_count": 10,
   "id": "624c99a9-6a9b-4e90-bfd7-e5d4bd1e759a",
   "metadata": {},
   "outputs": [],
   "source": [
    "# Function to export images for a specific station\n",
    "def export_image_for_station(image, station_name,buffered_point):\n",
    "    # Get the timestamp from system:time_start property\n",
    "    timestamp = ee.Date(image.get('system:time_start')).format('yyyyMMdd').getInfo()\n",
    "    \n",
    "    # Define the folder based on the station name\n",
    "    folder_name = 'MODIS_LAI_Export/' + station_name\n",
    "    \n",
    "    # Export the image to Google Drive\n",
    "    task = ee.batch.Export.image.toDrive(image=image,\n",
    "                                         description='MODIS_LAI_' + station_name + '_' + timestamp,\n",
    "                                         folder=folder_name,\n",
    "                                         fileNamePrefix='MODIS_LAI_' + station_name + '_' + timestamp,\n",
    "                                         region=buffered_point.bounds(),\n",
    "                                         scale=500,\n",
    "                                         crs='EPSG:4326')\n",
    "    task.start()"
   ]
  },
  {
   "cell_type": "code",
   "execution_count": 11,
   "id": "1f43a6fe-7404-4bd0-8e2b-8a292f9fb004",
   "metadata": {},
   "outputs": [],
   "source": [
    "subset_stations = {k: station_coordinates[k] for k in list(station_coordinates)[1:6]}"
   ]
  },
  {
   "cell_type": "code",
   "execution_count": 12,
   "id": "76fdea8e-23bb-4e89-9662-aa495887f24a",
   "metadata": {},
   "outputs": [
    {
     "data": {
      "text/plain": [
       "{'BE-Dor': {'latitude': 50.311874, 'longitude': 4.968113},\n",
       " 'BE-Lon': {'latitude': 50.55162, 'longitude': 4.746234},\n",
       " 'BE-Maa': {'latitude': 50.97987, 'longitude': 5.631851},\n",
       " 'BE-Vie': {'latitude': 50.304962, 'longitude': 5.998099},\n",
       " 'CZ-BK1': {'latitude': 49.502075, 'longitude': 18.536882}}"
      ]
     },
     "execution_count": 12,
     "metadata": {},
     "output_type": "execute_result"
    }
   ],
   "source": [
    "subset_stations"
   ]
  },
  {
   "cell_type": "code",
   "execution_count": null,
   "id": "7437961d-d68a-4e92-9b65-04e3ca4a9541",
   "metadata": {},
   "outputs": [],
   "source": [
    "# Iterate over each station in the dictionary\n",
    "for station_name, coordinates in subset_stations.items():\n",
    "    # Extract latitude and longitude for the station\n",
    "    latitude = coordinates['latitude']\n",
    "    longitude = coordinates['longitude']\n",
    "    \n",
    "    # Define the location (longitude, latitude)\n",
    "    point = ee.Geometry.Point(longitude, latitude)\n",
    "    \n",
    "    # Define a buffer of 500m around the point\n",
    "    buffered_point = point.buffer(1000)\n",
    "    \n",
    "    # Create an image collection for MODIS LAI data\n",
    "    modis_collection = ee.ImageCollection('MODIS/006/MOD15A2H') \\\n",
    "        .filterBounds(buffered_point) \\\n",
    "        .filterDate(ee.Date(start_date), ee.Date(end_date)) \\\n",
    "        .select(['Lai_500m', 'FparLai_QC', 'LaiStdDev_500m'])  # Add other bands too\n",
    "    \n",
    "    # Export all images in the collection for the current station\n",
    "    image_list = modis_collection.toList(modis_collection.size())\n",
    "    for i in range(image_list.size().getInfo()):\n",
    "        export_image_for_station(ee.Image(image_list.get(i)), station_name,buffered_point)\n",
    "        \n",
    "    \n"
   ]
  },
  {
   "cell_type": "markdown",
   "id": "8fd940f0-6511-45da-bfa9-95be8d20a4b7",
   "metadata": {},
   "source": [
    "**Steps to do**\n",
    "1) Read all tif files in the xarray.\n",
    "2) Then, select the grid cell containing particular location and neighboring 8 grid cells.\n",
    "3) Keep only good-quality data (QC flag values0, 2, 24, 26, 32, 34, 56, and 58) and set all other values to missing.\n",
    "4) At each time step, calculate a weighted mean from the nine pixels by weighting them by their standard deviation error (defined as $1/\\sigma^2$).\n",
    "5)  Gap fill the resulting 8-daily time series using a cubic spline function (Forsythe et al., 1977) and set any negative LAI values set to zero.\n",
    "6)  The gap-filled time series was first smoothed using a cubic smoothing spline.\n",
    "7)  A climatology (46 time steps) was then calculated from all available years.\n",
    "8)  An anomaly time series was then created by removing the climatology and smoothed by taking a rolling mean over a window of ±6 time steps to further remove short-term variability.\n",
    "9)  The climatology was then added to the smoothed time series and the 8-daily time series interpolated to the time resolution of\n",
    "the flux tower data using the climatological values prior to MODIS commencing in January 2000."
   ]
  }
 ],
 "metadata": {
  "kernelspec": {
   "display_name": "Python 3 (ipykernel)",
   "language": "python",
   "name": "python3"
  },
  "language_info": {
   "codemirror_mode": {
    "name": "ipython",
    "version": 3
   },
   "file_extension": ".py",
   "mimetype": "text/x-python",
   "name": "python",
   "nbconvert_exporter": "python",
   "pygments_lexer": "ipython3",
   "version": "3.11.5"
  }
 },
 "nbformat": 4,
 "nbformat_minor": 5
}
