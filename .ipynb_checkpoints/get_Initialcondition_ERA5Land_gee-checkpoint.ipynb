{
 "cells": [
  {
   "cell_type": "code",
   "execution_count": 2,
   "id": "c40ef9a6-4227-466b-bfe2-97815c31d117",
   "metadata": {},
   "outputs": [],
   "source": [
    "import ee\n",
    "import pandas as pd\n",
    "import os\n",
    "import xarray as xr"
   ]
  },
  {
   "cell_type": "code",
   "execution_count": null,
   "id": "874dabe1-223c-4365-8229-c984123cc7d0",
   "metadata": {},
   "outputs": [],
   "source": [
    "ee.Authenticate()"
   ]
  },
  {
   "cell_type": "code",
   "execution_count": 3,
   "id": "18be7c62-1b80-4e31-aff5-badad22670cd",
   "metadata": {},
   "outputs": [],
   "source": [
    "ee.Initialize()"
   ]
  },
  {
   "cell_type": "code",
   "execution_count": 4,
   "id": "616c490c-a3e3-4a0e-b613-3438fc23b98c",
   "metadata": {},
   "outputs": [],
   "source": [
    "directory = \"/home/khanalp/task1/data/ICOS/Input_data\"\n",
    "nc_files = [file for file in os.listdir(directory) if file.endswith(\".nc\")]"
   ]
  },
  {
   "cell_type": "code",
   "execution_count": 5,
   "id": "792dfe5b-53ee-4a74-a548-859289d181b5",
   "metadata": {},
   "outputs": [],
   "source": [
    "# This contains all the stations of the ICOS with information like plant canopy height, measurement height, etc. \n",
    "station_all = pd.read_excel(\"station_with_elevation_heightcanopy.xlsx\")\n",
    "# Set the \"station_name\" column as the index\n",
    "station_all = station_all.set_index('station_name')"
   ]
  },
  {
   "cell_type": "code",
   "execution_count": 6,
   "id": "1a8e501a-5336-4e39-91ef-01e5e261f608",
   "metadata": {},
   "outputs": [],
   "source": [
    "# selected_stations contains the stations with no NA values\"\n",
    "selected_station = pd.read_csv(\"sites_with_noNAs.csv\", index_col= 0)\n",
    "\n",
    "# These are station for which we will drive the model. \n",
    "station = station_all[station_all.index.isin(selected_station.index)]"
   ]
  },
  {
   "cell_type": "code",
   "execution_count": 7,
   "id": "181fc658-6885-427e-938b-8264410128b3",
   "metadata": {},
   "outputs": [],
   "source": [
    "# Initialize an empty dictionary to store station_name, latitude, and longitude and other information..\n",
    "station_dict = {}\n",
    "# Iterate over each row in the DataFrame\n",
    "for index, row in station.iterrows():\n",
    "    # Extract the station_name and position\n",
    "    station_name = index\n",
    "    latitude = row['latitude']\n",
    "    longitude = row['longitude']\n",
    "    elevation = row['elevation']\n",
    "    IGBP_longname = row['IGBP long name']\n",
    "    IGBP_shortname = row['IGBP short name']\n",
    "    #start_year = row['Start_Year_Threshold']\n",
    "    #end_year = row['End_Year_Threshold']\n",
    "    \n",
    "    # Extract height_canopy from 'height_canopy_field_information' column or 'height_canopy_ETH' column\n",
    "    height_canopy = row['height_canopy_field_information']\n",
    "    if pd.isna(height_canopy):  # Check if height_canopy_field_information is NaN\n",
    "        height_canopy = row['height_canopy_ETH']\n",
    "\n",
    "    measurement_height = row['Measurement height']\n",
    "    \n",
    "    # Store the station_name, latitude, and longitude in the dictionary\n",
    "    station_dict[station_name] = {\n",
    "        'latitude': latitude, \n",
    "        'longitude': longitude, \n",
    "        'elevation' : elevation,\n",
    "        'IGBP_longname': IGBP_longname,\n",
    "        'IGBP_shortname': IGBP_shortname,\n",
    "        'height_canopy': height_canopy,\n",
    "        'measurement_height': measurement_height,\n",
    "    }"
   ]
  },
  {
   "cell_type": "code",
   "execution_count": 8,
   "id": "6b992df6-97b9-480f-b81f-32fadd3bfb3b",
   "metadata": {},
   "outputs": [],
   "source": [
    "# Initialize a dictionary to store station information\n",
    "station_info = {}\n",
    "\n",
    "# Iterate over the NetCDF files\n",
    "for nc_file in nc_files:\n",
    "    # Extract station name from the filename\n",
    "    station_name = nc_file.split(\"_\")[0]\n",
    "    \n",
    "    # Extract start and end years from the filename\n",
    "    start_year = int(nc_file.split(\"_\")[1][:4])\n",
    "    end_year = int(nc_file.split(\"_\")[1][5:9])\n",
    "    \n",
    "    # Update station_info dictionary\n",
    "    station_info[station_name] = {'start_year': start_year, 'end_year': end_year}"
   ]
  },
  {
   "cell_type": "code",
   "execution_count": 9,
   "id": "2fc087b2-4327-45ed-b77c-63f44e77188f",
   "metadata": {},
   "outputs": [],
   "source": [
    "# Iterate over station_dict and update each station's dictionary\n",
    "for station_name, info in station_dict.items():\n",
    "    # Check if the station_name exists in station_info\n",
    "    if station_name in station_info:\n",
    "        # Update the station's dictionary with additional keys from station_info\n",
    "        additional_info = station_info[station_name]\n",
    "        info.update(additional_info)"
   ]
  },
  {
   "cell_type": "code",
   "execution_count": 10,
   "id": "c2fac36e-c7fb-471b-9df4-09525aa396b2",
   "metadata": {},
   "outputs": [],
   "source": [
    "band_required = ['skin_temperature',\n",
    "                 'soil_temperature_level_1',\n",
    "                 'soil_temperature_level_2',\n",
    "                 'soil_temperature_level_3',\n",
    "                 'soil_temperature_level_4',\n",
    "                 'volumetric_soil_water_layer_1',\n",
    "                 'volumetric_soil_water_layer_2',\n",
    "                 'volumetric_soil_water_layer_3',\n",
    "                 'volumetric_soil_water_layer_4']"
   ]
  },
  {
   "cell_type": "code",
   "execution_count": 11,
   "id": "3f1c58e9-9235-4f05-9206-ca70510852c5",
   "metadata": {},
   "outputs": [],
   "source": [
    "# Loop through each station in station_dict\n",
    "for station_name, station_info in station_dict.items():\n",
    "    # Extract latitude, longitude, start_year, and end_year for the current station\n",
    "    station_id = station_name\n",
    "    latitude = station_info['latitude']\n",
    "    longitude = station_info['longitude']\n",
    "    start_year = station_info['start_year']\n",
    "    end_year = station_info['end_year']\n",
    "    break"
   ]
  },
  {
   "cell_type": "code",
   "execution_count": 12,
   "id": "b3bf0624-f055-4086-86ec-6d1cc050d204",
   "metadata": {},
   "outputs": [],
   "source": [
    "# Create a point geometry using the latitude and longitude\n",
    "point = ee.Geometry.Point(longitude, latitude)"
   ]
  },
  {
   "cell_type": "code",
   "execution_count": null,
   "id": "14b74f81-44fb-4535-97cc-cd983c1eaaee",
   "metadata": {},
   "outputs": [],
   "source": [
    "# Filter the image collection to include only the images for the specified start year\n",
    "filtered_collection = ee.ImageCollection(\"ECMWF/ERA5_LAND/HOURLY\").filterDate(str(start_year) + \"-01-01\", str(start_year) + \"-12-31\")\n",
    "\n",
    "# Get the first image from the filtered collection\n",
    "first_image = ee.Image(filtered_collection.first())"
   ]
  },
  {
   "cell_type": "code",
   "execution_count": null,
   "id": "4461edea-3994-445f-af59-b75522466d99",
   "metadata": {},
   "outputs": [],
   "source": [
    "# Extract pixel values at the point for the first image of the year\n",
    "values = first_image.select(band_required).reduceRegion(reducer=ee.Reducer.first(), geometry=point, scale=1000)"
   ]
  },
  {
   "cell_type": "code",
   "execution_count": null,
   "id": "e7e6d954-8698-4962-a59c-7dd2eb0f869e",
   "metadata": {},
   "outputs": [],
   "source": [
    "# Create a Python dictionary containing the values for the specified bands\n",
    "# Extract values for the specified bands at the given location\n",
    "values_dict = first_image.reduceRegion(reducer=ee.Reducer.first(), geometry=point, scale=10000).getInfo()\n",
    "\n",
    "# Create a pandas DataFrame from the dictionary of band values\n",
    "df = pd.DataFrame(values_dict, index=[0])\n",
    "\n",
    "# Select only the required bands\n",
    "df = df[band_required]\n",
    "\n",
    "df.index = [station_name]"
   ]
  },
  {
   "cell_type": "code",
   "execution_count": 18,
   "id": "b04b3d23-501d-4c6c-8b54-29eec3b14460",
   "metadata": {},
   "outputs": [],
   "source": [
    "# Create an empty list to store DataFrames for each station\n",
    "dfs = []\n",
    "\n",
    "# Loop through each station in station_dict\n",
    "for station_name, station_info in station_dict.items():\n",
    "    # Extract latitude, longitude, start_year, and end_year for the current station\n",
    "    latitude = station_info['latitude']\n",
    "    longitude = station_info['longitude']\n",
    "    start_year = station_info['start_year']\n",
    "    end_year = station_info['end_year']\n",
    "    \n",
    "    # Create a point geometry using the latitude and longitude\n",
    "    point = ee.Geometry.Point(longitude, latitude)\n",
    "\n",
    "    # Filter the image collection to include only the images for the specified start year\n",
    "    filtered_collection = ee.ImageCollection(\"ECMWF/ERA5_LAND/HOURLY\").filterDate(str(start_year) + \"-01-01\", str(start_year) + \"-12-31\")\n",
    "\n",
    "    # Get the first image from the filtered collection\n",
    "    first_image = ee.Image(filtered_collection.first())\n",
    "\n",
    "    # Extract pixel values at the point for the first image of the year\n",
    "    values_dict = first_image.reduceRegion(reducer=ee.Reducer.first(), geometry=point, scale=10000).getInfo()\n",
    "    \n",
    "    # Create a pandas DataFrame from the dictionary of band values\n",
    "    station_df = pd.DataFrame(values_dict, index=[station_name])\n",
    "    \n",
    "    # Select only the required bands\n",
    "    station_df = station_df[band_required]\n",
    "    \n",
    "    # Append the station DataFrame to the list\n",
    "    dfs.append(station_df)\n",
    "\n",
    "# Concatenate all DataFrames in the list into a single DataFrame\n",
    "df = pd.concat(dfs)"
   ]
  },
  {
   "cell_type": "code",
   "execution_count": 20,
   "id": "8577fbc7-0ff8-4a3a-9e41-7fc10f689d34",
   "metadata": {},
   "outputs": [],
   "source": [
    "df.to_csv(\"ERA5LandInitialcondition.csv\", index = True)"
   ]
  },
  {
   "cell_type": "code",
   "execution_count": null,
   "id": "aabca0fa-995c-4365-86e2-431944f40bbe",
   "metadata": {},
   "outputs": [],
   "source": []
  }
 ],
 "metadata": {
  "kernelspec": {
   "display_name": "Python 3 (ipykernel)",
   "language": "python",
   "name": "python3"
  },
  "language_info": {
   "codemirror_mode": {
    "name": "ipython",
    "version": 3
   },
   "file_extension": ".py",
   "mimetype": "text/x-python",
   "name": "python",
   "nbconvert_exporter": "python",
   "pygments_lexer": "ipython3",
   "version": "3.11.5"
  }
 },
 "nbformat": 4,
 "nbformat_minor": 5
}
